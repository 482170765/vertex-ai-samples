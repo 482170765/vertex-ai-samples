{
 "cells": [
  {
   "cell_type": "markdown",
   "id": "2e734e50-ee8e-46aa-98ce-4fa46052c182",
   "metadata": {
    "tags": []
   },
   "source": [
    "# Overview"
   ]
  },
  {
   "cell_type": "markdown",
   "id": "a53fafdb-6181-42c2-9da1-be0576b9ad0e",
   "metadata": {},
   "source": [
    "This notebook is based on this [Prediction and Feature Store Online Serving](https://github.com/GoogleCloudPlatform/vertex-ai-samples/blob/main/notebooks/community/feature_store/mobile_gaming/mobile_gaming_feature_store.ipynb) notebook and [this blog post](https://cloud.google.com/blog/topics/developers-practitioners/churn-prediction-game-developers-using-google-analytics-4-ga4-and-bigquery-ml)"
   ]
  },
  {
   "cell_type": "markdown",
   "id": "6e3cdf46-9075-43f8-82c2-759143a87e8f",
   "metadata": {},
   "source": [
    "### Dataset\n",
    "\n",
    "The dataset is the public sample export data from an actual mobile game app called \"Flood It!\" (Android, iOS)\n",
    "\n",
    "### Model\n",
    "\n",
    "The model you use in this notebook is based on [this blog post](https://cloud.google.com/blog/topics/developers-practitioners/churn-prediction-game-developers-using-google-analytics-4-ga4-and-bigquery-ml). The idea behind this model is that your company has extensive log data describing how your game users have interacted with the site. The raw data contains the following categories of information:\n",
    "\n",
    "- identity - unique player identitity numbers\n",
    "- demographic features - information about the player, such as the geographic region in which a player is located\n",
    "- behavioral features - counts of the number of times a  player has triggered certain game events, such as reaching a new level\n",
    "- churn propensity - this is the label or target feature, it provides an estimated probability that this player will churn, i.e. stop being an active player.\n",
    "\n",
    "The blog article referenced above explains how to use BigQuery to store the raw data, pre-process the data for machine learning, and train the corresponding model. Because this notebook focuses on model monitoring, rather than training models, you're going to reuse a pre-trained version of this model, which has been exported to Cloud Storage, which is stored in `gs://mco-mm/churn`"
   ]
  },
  {
   "cell_type": "markdown",
   "id": "92a8eb5b-529a-407b-aea1-7add21aa180d",
   "metadata": {},
   "source": [
    "# Basic set up"
   ]
  },
  {
   "cell_type": "markdown",
   "id": "ce7811b5-3a0f-4219-82dc-dee2657388d9",
   "metadata": {},
   "source": [
    "## Install packages"
   ]
  },
  {
   "cell_type": "code",
   "execution_count": null,
   "id": "27d897e2-b294-4d06-ada1-6d3b63ba7abd",
   "metadata": {
    "tags": []
   },
   "outputs": [],
   "source": [
    "! pip install google-cloud-aiplatform"
   ]
  },
  {
   "cell_type": "markdown",
   "id": "3b6d4e0e-d99c-4694-86de-cb1ef9d77397",
   "metadata": {},
   "source": [
    "## Set up project"
   ]
  },
  {
   "cell_type": "code",
   "execution_count": null,
   "id": "46c091e6-e25d-4b44-877b-7214958a0778",
   "metadata": {},
   "outputs": [],
   "source": [
    "import os\n",
    "\n",
    "PROJECT_ID = \"\"\n",
    "\n",
    "# Get your Google Cloud project ID from gcloud\n",
    "if not os.getenv(\"IS_TESTING\"):\n",
    "    shell_output = !gcloud config list --format 'value(core.project)' 2>/dev/null\n",
    "    PROJECT_ID = shell_output[0]\n",
    "    print(\"Project ID: \", PROJECT_ID)"
   ]
  },
  {
   "cell_type": "code",
   "execution_count": null,
   "id": "1eb77d09-e593-4051-a3ea-f4300fae28ac",
   "metadata": {},
   "outputs": [],
   "source": [
    "if PROJECT_ID == \"\" or PROJECT_ID is None:\n",
    "    PROJECT_ID = \"[your-project-id]\"  # @param {type:\"string\"}"
   ]
  },
  {
   "cell_type": "code",
   "execution_count": null,
   "id": "c4fab5c8-a2db-4666-903e-285fbd99c792",
   "metadata": {},
   "outputs": [],
   "source": [
    "shell_output = ! gcloud projects list --filter=\"PROJECT_ID:'{PROJECT_ID}'\" --format='value(PROJECT_NUMBER)'\n",
    "PROJECT_NUMBER = shell_output[0]\n",
    "print(\"Project Number:\", PROJECT_NUMBER)"
   ]
  },
  {
   "cell_type": "code",
   "execution_count": null,
   "id": "a74dc3fe-eaae-4fce-ac27-2e2389f7ed99",
   "metadata": {},
   "outputs": [],
   "source": [
    "! gcloud config set project $PROJECT_ID"
   ]
  },
  {
   "cell_type": "markdown",
   "id": "719535fa-fbba-4079-ac74-9dd1e564605b",
   "metadata": {},
   "source": [
    "The feature is only available in `us-central1` now"
   ]
  },
  {
   "cell_type": "code",
   "execution_count": null,
   "id": "9a83a586-789c-47bc-85b4-0f12f5b29b12",
   "metadata": {},
   "outputs": [],
   "source": [
    "REGION = \"us-central1\""
   ]
  },
  {
   "cell_type": "markdown",
   "id": "50560930-6921-43fd-ba62-679283fd000f",
   "metadata": {},
   "source": [
    "## Authenticate your Google Cloud account"
   ]
  },
  {
   "cell_type": "markdown",
   "id": "5ab9ef53-2628-42e1-ad3a-1015a695c9d5",
   "metadata": {},
   "source": [
    "If you are using Vertex AI Workbench Notebooks, your environment is already authenticated. Skip this step.\n",
    "\n",
    "If you are using Colab, run the cell below and follow the instructions when prompted to authenticate your account via oAuth.\n",
    "\n",
    "Otherwise, follow these steps:\n",
    "\n",
    "1. In the Cloud Console, go to the Create service account key page.\n",
    "\n",
    "2. Click Create service account.\n",
    "\n",
    "3. In the Service account name field, enter a name, and click Create.\n",
    "\n",
    "4. In the Grant this service account access to project section, click the Role drop-down list and add the following roles:\n",
    "\n",
    "- BigQuery Admin\n",
    "- Storage Admin\n",
    "- Storage Object Admin\n",
    "- Vertex AI Administrator\n",
    "- Vertex AI Feature Store Admin\n",
    "\n",
    "5. Click Create. A JSON file that contains your key downloads to your local environment.\n",
    "\n",
    "6. Enter the path to your service account key as the `GOOGLE_APPLICATION_CREDENTIALS` variable in the cell below and run the cell."
   ]
  },
  {
   "cell_type": "code",
   "execution_count": null,
   "id": "68e5aec0-e472-4b27-9279-82c670dc17a7",
   "metadata": {},
   "outputs": [],
   "source": [
    "# If you are running this notebook in Colab, run this cell and follow the\n",
    "# instructions to authenticate your GCP account. This provides access to your\n",
    "# Cloud Storage bucket and lets you submit training jobs and prediction\n",
    "# requests.\n",
    "\n",
    "import os\n",
    "import sys\n",
    "\n",
    "# If on Vertex AI Workbench, then don't execute this code\n",
    "IS_COLAB = \"google.colab\" in sys.modules\n",
    "if not os.path.exists(\"/opt/deeplearning/metadata/env_version\") and not os.getenv(\n",
    "    \"DL_ANACONDA_HOME\"\n",
    "):\n",
    "    if \"google.colab\" in sys.modules:\n",
    "        from google.colab import auth as google_auth\n",
    "\n",
    "        google_auth.authenticate_user()\n",
    "\n",
    "    # If you are running this notebook locally, replace the string below with the\n",
    "    # path to your service account key and run this cell to authenticate your GCP\n",
    "    # account.\n",
    "    elif not os.getenv(\"IS_TESTING\"):\n",
    "        %env GOOGLE_APPLICATION_CREDENTIALS ''"
   ]
  },
  {
   "cell_type": "markdown",
   "id": "aa61d746-c301-42db-afdd-cbf69b8b1ef9",
   "metadata": {},
   "source": [
    "Create a bucket and copy the exported model to it"
   ]
  },
  {
   "cell_type": "code",
   "execution_count": null,
   "id": "828b79a5-f5ab-4b49-9034-8cdc9189bf2b",
   "metadata": {},
   "outputs": [],
   "source": [
    "BUCKET_NAME = \"[your-bucket-name]\"  # @param {type:\"string\"}\n",
    "BUCKET_URI = f\"gs://{BUCKET_NAME}\""
   ]
  },
  {
   "cell_type": "code",
   "execution_count": null,
   "id": "497e6b98-0dd8-41ef-995c-17b51d45e4ad",
   "metadata": {},
   "outputs": [],
   "source": [
    "if BUCKET_NAME == \"\" or BUCKET_NAME is None or BUCKET_NAME == \"[your-bucket-name]\":\n",
    "    BUCKET_NAME = PROJECT_ID + \"-aip-\" + TIMESTAMP\n",
    "    BUCKET_URI = f\"gs://{BUCKET_NAME}\""
   ]
  },
  {
   "cell_type": "markdown",
   "id": "e69a916e-1d9a-4bef-aaa9-5c11ff9d8128",
   "metadata": {},
   "source": [
    "Only if your bucket doesn't already exist: Run the following cell to create your Cloud Storage bucket."
   ]
  },
  {
   "cell_type": "code",
   "execution_count": null,
   "id": "cbdaca38-f448-4226-b818-9406315596ec",
   "metadata": {},
   "outputs": [],
   "source": [
    "! gsutil mb -l $REGION -p $PROJECT_ID $BUCKET_URI"
   ]
  },
  {
   "cell_type": "code",
   "execution_count": null,
   "id": "828115f5-be2b-45af-9a31-46d335c26e9d",
   "metadata": {},
   "outputs": [],
   "source": [
    "! gsutil ls -al $BUCKET_URI"
   ]
  },
  {
   "cell_type": "markdown",
   "id": "6dcb264f-28ef-4839-a2a8-52c09b262204",
   "metadata": {},
   "source": [
    "Copy the trained model to your bucket"
   ]
  },
  {
   "cell_type": "code",
   "execution_count": null,
   "id": "2bc674ed-bf5d-43a4-b45d-9be0791c5eee",
   "metadata": {},
   "outputs": [],
   "source": [
    "! gsutil cp -r gs://mco-mm/churn $BUCKET_URI"
   ]
  },
  {
   "cell_type": "code",
   "execution_count": null,
   "id": "e52d05e2-cb1b-4f6e-9289-f05ff255cd29",
   "metadata": {},
   "outputs": [],
   "source": [
    "ARTIFACT_URI = f\"gs://{BUCKET_NAME}/churn\""
   ]
  },
  {
   "cell_type": "markdown",
   "id": "e7d67181-d0f3-4d4a-95d7-6ffd6f70af3a",
   "metadata": {},
   "source": [
    "### Create a service account\n",
    "\n",
    "We need a service account for this new feature because the prediction workload's credential does not have access to Feature Store. Create one and grant the role `roles/aiplatform.serviceAgent` to it, which will grant it the access to most prediction's resources and Feature Store."
   ]
  },
  {
   "cell_type": "code",
   "execution_count": null,
   "id": "e4c1bcee-8a49-4a18-a710-cabf37f0693a",
   "metadata": {},
   "outputs": [],
   "source": [
    "SA_NAME = \"prediction-and-fs-testing\"\n",
    "SA_DESCRIPTION = '\"SA to test Prediction and Feature Store integration\"'\n",
    "DISPLAY_NAME = \"prediction-and-fs-testing\""
   ]
  },
  {
   "cell_type": "code",
   "execution_count": null,
   "id": "16244da0-8a04-4b27-aa50-c6c2412220e4",
   "metadata": {},
   "outputs": [],
   "source": [
    "!gcloud iam service-accounts create $SA_NAME \\\n",
    "    --description=$SA_DESCRIPTION \\\n",
    "    --display-name=$DISPLAY_NAME"
   ]
  },
  {
   "cell_type": "code",
   "execution_count": null,
   "id": "f2a75d0c-08d1-4b30-9cb3-75369735ed4e",
   "metadata": {},
   "outputs": [],
   "source": [
    "# SERVICE_ACCOUNT = \"prediction-and-fs@bon-test-0.iam.gserviceaccount.com\"\n",
    "SERVICE_ACCOUNT = f\"{SA_NAME}@{PROJECT_ID}.iam.gserviceaccount.com\"  # @param {type:\"string\"}"
   ]
  },
  {
   "cell_type": "markdown",
   "id": "f396f6ce-c464-4fd8-be09-e82f21d4fafd",
   "metadata": {},
   "source": [
    "Grant the Service account the `Vertex AI Service Agent` role which has access to most Vertex AI resources including Feature Store."
   ]
  },
  {
   "cell_type": "code",
   "execution_count": null,
   "id": "cf20b7b1-699f-4f75-8e42-8eb2c44663ea",
   "metadata": {},
   "outputs": [],
   "source": [
    "!gcloud projects add-iam-policy-binding $PROJECT_ID \\\n",
    "    --member=serviceAccount:$SERVICE_ACCOUNT \\\n",
    "    --role=roles/aiplatform.serviceAgent;"
   ]
  },
  {
   "cell_type": "markdown",
   "id": "39becc38-e0b3-4819-9c92-f169a283ccd9",
   "metadata": {},
   "source": [
    "## Timestamp"
   ]
  },
  {
   "cell_type": "code",
   "execution_count": 1,
   "id": "6da1b957-90e7-42e7-bf52-6b1d9e6e0112",
   "metadata": {},
   "outputs": [],
   "source": [
    "from datetime import datetime\n",
    "\n",
    "TIMESTAMP = datetime.now().strftime(\"%Y%m%d%H%M%S\")"
   ]
  },
  {
   "cell_type": "markdown",
   "id": "8d881064-91fa-469c-b24a-2a15d5b8c1e7",
   "metadata": {},
   "source": [
    "# Create Feature Store"
   ]
  },
  {
   "cell_type": "markdown",
   "id": "859d9180-cb23-450b-ac86-52b126622f84",
   "metadata": {},
   "source": [
    "## Get data from Big Query"
   ]
  },
  {
   "cell_type": "code",
   "execution_count": null,
   "id": "bec42599-f19a-4f1b-8506-57669b1887a1",
   "metadata": {},
   "outputs": [],
   "source": [
    "BQ_DATASET = \"Mobile_Gaming_FS_Pred\"  # @param {type:\"string\"}\n",
    "LOCATION = \"US\""
   ]
  },
  {
   "cell_type": "code",
   "execution_count": null,
   "id": "a535051b-03d3-445f-a886-0521609d3a2c",
   "metadata": {},
   "outputs": [],
   "source": [
    "!bq mk --location=$LOCATION --dataset $PROJECT_ID:$BQ_DATASET"
   ]
  },
  {
   "cell_type": "code",
   "execution_count": null,
   "id": "ea69ed1f-8888-488c-a166-91e51ee56361",
   "metadata": {},
   "outputs": [],
   "source": [
    "# General\n",
    "import os\n",
    "import random\n",
    "import sys\n",
    "import time\n",
    "\n",
    "# Vertex AI and its Feature Store\n",
    "from google.cloud import aiplatform\n",
    "from google.cloud import bigquery\n",
    "from google.cloud.aiplatform import Feature, Featurestore"
   ]
  },
  {
   "cell_type": "code",
   "execution_count": null,
   "id": "7ccc3ac7-3b74-48cd-991e-1f9ff0223b6b",
   "metadata": {},
   "outputs": [],
   "source": [
    "# Data Engineering and Feature Engineering\n",
    "LABEL_TABLE = f\"label_table_{TIMESTAMP}\".replace(\"-\", \"\")\n",
    "FEATURES_TABLE = f\"wide_features_table_{TIMESTAMP}\"  # @param {type:\"string\"}\n",
    "FEATURESTORE_ID = \"mobile_gaming4\"  # @param {type:\"string\"}\n",
    "\n",
    "# Vertex AI Feature store\n",
    "ONLINE_STORE_NODES_COUNT = 5\n",
    "DEMOGRAPHIC_ENTITY_ID = \"demographic\"\n",
    "BEHAVIOR_ENTITY_ID = \"behavior\"\n",
    "FEATURE_TIME = \"timestamp\"\n",
    "ENTITY_ID_FIELD = \"user_pseudo_id\"\n",
    "BQ_SOURCE_URI = f\"bq://{PROJECT_ID}.{BQ_DATASET}.{FEATURES_TABLE}\""
   ]
  },
  {
   "cell_type": "markdown",
   "id": "fbc90e9f-c2af-4693-a2a5-d42647e495f7",
   "metadata": {
    "tags": []
   },
   "source": [
    "## Query data"
   ]
  },
  {
   "cell_type": "code",
   "execution_count": null,
   "id": "c190ca70-7484-4ac0-85c7-874b8a6efba6",
   "metadata": {},
   "outputs": [],
   "source": [
    "bq_client = bigquery.Client(project=PROJECT_ID, location=LOCATION)"
   ]
  },
  {
   "cell_type": "markdown",
   "id": "8c7a68fe-fb57-4709-a925-d34a8514e314",
   "metadata": {},
   "source": [
    "This notebook is mainly to demo our new feature, so, I'll just query 1000 non-null rows"
   ]
  },
  {
   "cell_type": "code",
   "execution_count": null,
   "id": "c1ac54e2-7f34-4e08-b164-3aa1b96f29ed",
   "metadata": {
    "tags": []
   },
   "outputs": [],
   "source": [
    "features_sql_query = f\"\"\"\n",
    "CREATE OR REPLACE TABLE\n",
    "  `{PROJECT_ID}.{BQ_DATASET}.{FEATURES_TABLE}` AS\n",
    "WITH\n",
    "  # query to extract demographic data for each user ---------------------------------------------------------\n",
    "  get_demographic_data AS (\n",
    "  SELECT * EXCEPT (row_num)\n",
    "  FROM (\n",
    "    SELECT\n",
    "      user_pseudo_id,\n",
    "      geo.country as country,\n",
    "      device.operating_system as operating_system,\n",
    "      device.language as language,\n",
    "      ROW_NUMBER() OVER (PARTITION BY user_pseudo_id ORDER BY event_timestamp DESC) AS row_num\n",
    "    FROM `firebase-public-project.analytics_153293282.events_*`)\n",
    "  WHERE row_num = 1),\n",
    "\n",
    "  # query to extract behavioral data for each user ----------------------------------------------------------\n",
    "  get_behavioral_data AS (\n",
    "  SELECT\n",
    "    event_timestamp,\n",
    "    user_pseudo_id,\n",
    "    SUM(IF(event_name = 'user_engagement', 1, 0)) OVER (PARTITION BY user_pseudo_id ORDER BY event_timestamp ASC RANGE BETWEEN 21600000000 PRECEDING\n",
    "      AND CURRENT ROW ) AS cnt_user_engagement,\n",
    "    SUM(IF(event_name = 'level_start_quickplay', 1, 0)) OVER (PARTITION BY user_pseudo_id ORDER BY event_timestamp ASC RANGE BETWEEN 21600000000 PRECEDING\n",
    "      AND CURRENT ROW ) AS cnt_level_start_quickplay,\n",
    "    SUM(IF(event_name = 'level_end_quickplay', 1, 0)) OVER (PARTITION BY user_pseudo_id ORDER BY event_timestamp ASC RANGE BETWEEN 21600000000 PRECEDING\n",
    "      AND CURRENT ROW ) AS cnt_level_end_quickplay,\n",
    "    SUM(IF(event_name = 'level_complete_quickplay', 1, 0)) OVER (PARTITION BY user_pseudo_id ORDER BY event_timestamp ASC RANGE BETWEEN 21600000000 PRECEDING\n",
    "      AND CURRENT ROW ) AS cnt_level_complete_quickplay,\n",
    "    SUM(IF(event_name = 'level_reset_quickplay', 1, 0)) OVER (PARTITION BY user_pseudo_id ORDER BY event_timestamp ASC RANGE BETWEEN 21600000000 PRECEDING\n",
    "      AND CURRENT ROW ) AS cnt_level_reset_quickplay,\n",
    "    SUM(IF(event_name = 'post_score', 1, 0)) OVER (PARTITION BY user_pseudo_id ORDER BY event_timestamp ASC RANGE BETWEEN 21600000000 PRECEDING\n",
    "      AND CURRENT ROW ) AS cnt_post_score,\n",
    "    SUM(IF(event_name = 'spend_virtual_currency', 1, 0)) OVER (PARTITION BY user_pseudo_id ORDER BY event_timestamp ASC RANGE BETWEEN 21600000000 PRECEDING\n",
    "      AND CURRENT ROW ) AS cnt_spend_virtual_currency,\n",
    "    SUM(IF(event_name = 'ad_reward', 1, 0)) OVER (PARTITION BY user_pseudo_id ORDER BY event_timestamp ASC RANGE BETWEEN 21600000000 PRECEDING\n",
    "      AND CURRENT ROW ) AS cnt_ad_reward,\n",
    "    SUM(IF(event_name = 'challenge_a_friend', 1, 0)) OVER (PARTITION BY user_pseudo_id ORDER BY event_timestamp ASC RANGE BETWEEN 21600000000 PRECEDING\n",
    "      AND CURRENT ROW ) AS cnt_challenge_a_friend,\n",
    "    SUM(IF(event_name = 'completed_5_levels', 1, 0)) OVER (PARTITION BY user_pseudo_id ORDER BY event_timestamp ASC RANGE BETWEEN 21600000000 PRECEDING\n",
    "      AND CURRENT ROW ) AS cnt_completed_5_levels,\n",
    "    SUM(IF(event_name = 'use_extra_steps', 1, 0)) OVER (PARTITION BY user_pseudo_id ORDER BY event_timestamp ASC RANGE BETWEEN 21600000000 PRECEDING\n",
    "      AND CURRENT ROW ) AS cnt_use_extra_steps,\n",
    "  FROM (\n",
    "    SELECT\n",
    "      e.*\n",
    "    FROM\n",
    "      `firebase-public-project.analytics_153293282.events_*` AS e\n",
    "    )\n",
    "  ),\n",
    "\n",
    "  # query to extract the first and last time user play the game --------------------------------------------\n",
    "  first_last_touch AS (\n",
    "    SELECT\n",
    "      user_pseudo_id,\n",
    "      MIN(event_timestamp) AS user_first_engagement,\n",
    "      MAX(event_timestamp) AS user_last_engagement\n",
    "    FROM\n",
    "      `firebase-public-project.analytics_153293282.events_*`\n",
    "    WHERE event_name=\"user_engagement\"\n",
    "    GROUP BY\n",
    "      user_pseudo_id\n",
    "\n",
    "  )\n",
    "\n",
    "SELECT full_data.*\n",
    "FROM (\n",
    "SELECT\n",
    "    TIMESTAMP_ADD(PARSE_TIMESTAMP('%Y-%m-%d %H:%M:%S', FORMAT_TIMESTAMP('%Y-%m-%d %H:%M:%S', TIMESTAMP_MICROS(beh.event_timestamp))), INTERVAL 1351 DAY) AS timestamp,\n",
    "    dem.*,\n",
    "    CAST(IFNULL(beh.cnt_user_engagement, 0) AS FLOAT64)  AS cnt_user_engagement,\n",
    "    CAST(IFNULL(beh.cnt_level_start_quickplay, 0) AS FLOAT64) AS cnt_level_start_quickplay,\n",
    "    CAST(IFNULL(beh.cnt_level_end_quickplay, 0) AS FLOAT64) AS cnt_level_end_quickplay,\n",
    "    CAST(IFNULL(beh.cnt_level_complete_quickplay, 0) AS FLOAT64) AS cnt_level_complete_quickplay,\n",
    "    CAST(IFNULL(beh.cnt_level_reset_quickplay, 0) AS FLOAT64) AS cnt_level_reset_quickplay,\n",
    "    CAST(IFNULL(beh.cnt_post_score, 0) AS FLOAT64) AS cnt_post_score,\n",
    "    CAST(IFNULL(beh.cnt_spend_virtual_currency, 0) AS FLOAT64) AS cnt_spend_virtual_currency,\n",
    "    CAST(IFNULL(beh.cnt_ad_reward, 0) AS FLOAT64) AS cnt_ad_reward,\n",
    "    CAST(IFNULL(beh.cnt_challenge_a_friend, 0) AS FLOAT64) AS cnt_challenge_a_friend,\n",
    "    CAST(IFNULL(beh.cnt_completed_5_levels, 0) AS FLOAT64) AS cnt_completed_5_levels,\n",
    "    CAST(IFNULL(beh.cnt_use_extra_steps, 0) AS FLOAT64) AS cnt_use_extra_steps,\n",
    "    flt.user_first_engagement,\n",
    "    flt.user_last_engagement,\n",
    "    EXTRACT(MONTH from TIMESTAMP_MICROS(flt.user_first_engagement)) as month,\n",
    "    EXTRACT(DAYOFYEAR from TIMESTAMP_MICROS(flt.user_first_engagement)) as julianday,\n",
    "    EXTRACT(DAYOFWEEK from TIMESTAMP_MICROS(flt.user_first_engagement)) as dayofweek,\n",
    "    \n",
    "FROM\n",
    "  get_demographic_data dem\n",
    "LEFT OUTER JOIN \n",
    "  get_behavioral_data beh\n",
    "ON\n",
    "  dem.user_pseudo_id = beh.user_pseudo_id\n",
    "LEFT OUTER JOIN\n",
    "  first_last_touch flt\n",
    "ON\n",
    "  dem.user_pseudo_id = flt.user_pseudo_id) as full_data\n",
    "# filter to only get rows with all non-null data\n",
    "WHERE NOT REGEXP_CONTAINS(TO_JSON_STRING(full_data), r':null[,}}]')\n",
    "# to save time for the demo, only get the first 1000 rows\n",
    "LIMIT 1000\n",
    "\"\"\""
   ]
  },
  {
   "cell_type": "code",
   "execution_count": null,
   "id": "814dae17-fbbb-45dc-9495-f1bfa976aef6",
   "metadata": {},
   "outputs": [],
   "source": [
    "try:\n",
    "    job = bq_client.query(features_sql_query)\n",
    "    _ = job.result()\n",
    "except RuntimeError as error:\n",
    "    print(error)"
   ]
  },
  {
   "cell_type": "markdown",
   "id": "bf6618f0-7fc9-4a5b-8a97-13cd1f1342ee",
   "metadata": {},
   "source": [
    "## Create Feature Store"
   ]
  },
  {
   "cell_type": "code",
   "execution_count": null,
   "id": "c6e5d9d4-00ae-4d8b-b581-4feb93d5b0cc",
   "metadata": {},
   "outputs": [],
   "source": [
    "try:\n",
    "    mobile_gaming_feature_store = Featurestore.create(\n",
    "        featurestore_id=FEATURESTORE_ID,\n",
    "        online_store_fixed_node_count=ONLINE_STORE_NODES_COUNT,\n",
    "        sync=True,\n",
    "    )\n",
    "except RuntimeError as error:\n",
    "    print(error)\n",
    "else:\n",
    "    FEATURESTORE_RESOURCE_NAME = mobile_gaming_feature_store.resource_name\n",
    "    print(f\"Feature store created: {FEATURESTORE_RESOURCE_NAME}\")"
   ]
  },
  {
   "cell_type": "markdown",
   "id": "ea0e50fe-1f8a-4214-af77-ae355147ee31",
   "metadata": {},
   "source": [
    "### Create Entities"
   ]
  },
  {
   "cell_type": "code",
   "execution_count": null,
   "id": "455e8d13-c036-4a79-97a8-89b95069e0f7",
   "metadata": {
    "tags": []
   },
   "outputs": [],
   "source": [
    "try:\n",
    "    demographic_entity_type = mobile_gaming_feature_store.create_entity_type(\n",
    "        entity_type_id=DEMOGRAPHIC_ENTITY_ID, description=\"User demographic Entity\", sync=True\n",
    "    )\n",
    "except RuntimeError as error:\n",
    "    print(error)\n",
    "else:\n",
    "    DEMOGRAPHIC_ENTITY_RESOURCE_NAME = demographic_entity_type.resource_name\n",
    "    print(\"Entity type name is\", DEMOGRAPHIC_ENTITY_RESOURCE_NAME)"
   ]
  },
  {
   "cell_type": "code",
   "execution_count": null,
   "id": "a812b84e-b9d8-4d19-a0b4-78c6a9587a0c",
   "metadata": {},
   "outputs": [],
   "source": [
    "try:\n",
    "    behavior_entity_type = mobile_gaming_feature_store.create_entity_type(\n",
    "        entity_type_id=BEHAVIOR_ENTITY_ID, description=\"User behavior Entity\", sync=True\n",
    "    )\n",
    "except RuntimeError as error:\n",
    "    print(error)\n",
    "else:\n",
    "    BEHAVIOR_ENTITY_RESOURCE_NAME = behavior_entity_type.resource_name\n",
    "    print(\"Entity type name is\", BEHAVIOR_ENTITY_RESOURCE_NAME)"
   ]
  },
  {
   "cell_type": "markdown",
   "id": "11824005-5ce6-4232-b375-0a2ef88f936f",
   "metadata": {},
   "source": [
    "### Create Features"
   ]
  },
  {
   "cell_type": "markdown",
   "id": "64600531-9a09-4900-8876-5689dbd89d42",
   "metadata": {},
   "source": [
    "#### Feature Config"
   ]
  },
  {
   "cell_type": "code",
   "execution_count": null,
   "id": "918e3f57-9aa0-4f81-8967-96e203c2571b",
   "metadata": {},
   "outputs": [],
   "source": [
    "demographic_feature_configs = {\n",
    "    \"country\": {\n",
    "        \"value_type\": \"STRING\",\n",
    "        \"description\": \"The country of customer\",\n",
    "        \"labels\": {\"status\": \"passed\"},\n",
    "    },\n",
    "    \"operating_system\": {\n",
    "        \"value_type\": \"STRING\",\n",
    "        \"description\": \"The operating system of device\",\n",
    "        \"labels\": {\"status\": \"passed\"},\n",
    "    },\n",
    "    \"language\": {\n",
    "        \"value_type\": \"STRING\",\n",
    "        \"description\": \"The language of device\",\n",
    "        \"labels\": {\"status\": \"passed\"},\n",
    "    },\n",
    "    \"user_pseudo_id\": {\n",
    "        \"value_type\": \"STRING\",\n",
    "        \"description\": \"User pseudo id\",\n",
    "        \"labels\": {\"status\": \"passed\"},\n",
    "    }\n",
    "}\n",
    "\n",
    "behavior_feature_configs = {\n",
    "    \"cnt_user_engagement\": {\n",
    "        \"value_type\": \"DOUBLE\",\n",
    "        \"description\": \"A variable of user engagement level\",\n",
    "        \"labels\": {\"status\": \"passed\"},\n",
    "    },\n",
    "    \"cnt_level_start_quickplay\": {\n",
    "        \"value_type\": \"DOUBLE\",\n",
    "        \"description\": \"A variable of user engagement with start level\",\n",
    "        \"labels\": {\"status\": \"passed\"},\n",
    "    },\n",
    "    \"cnt_level_end_quickplay\": {\n",
    "        \"value_type\": \"DOUBLE\",\n",
    "        \"description\": \"A variable of user engagement with end level\",\n",
    "        \"labels\": {\"status\": \"passed\"},\n",
    "    },\n",
    "    \"cnt_level_complete_quickplay\": {\n",
    "        \"value_type\": \"DOUBLE\",\n",
    "        \"description\": \"A variable of user engagement with complete status\",\n",
    "        \"labels\": {\"status\": \"passed\"},\n",
    "    },\n",
    "    \"cnt_level_reset_quickplay\": {\n",
    "        \"value_type\": \"DOUBLE\",\n",
    "        \"description\": \"A variable of user engagement with reset status\",\n",
    "        \"labels\": {\"status\": \"passed\"},\n",
    "    },\n",
    "    \"cnt_post_score\": {\n",
    "        \"value_type\": \"DOUBLE\",\n",
    "        \"description\": \"A variable of user score\",\n",
    "        \"labels\": {\"status\": \"passed\"},\n",
    "    },\n",
    "    \"cnt_spend_virtual_currency\": {\n",
    "        \"value_type\": \"DOUBLE\",\n",
    "        \"description\": \"A variable of user virtual amount\",\n",
    "        \"labels\": {\"status\": \"passed\"},\n",
    "    },\n",
    "    \"cnt_ad_reward\": {\n",
    "        \"value_type\": \"DOUBLE\",\n",
    "        \"description\": \"A variable of user reward\",\n",
    "        \"labels\": {\"status\": \"passed\"},\n",
    "    },\n",
    "    \"cnt_challenge_a_friend\": {\n",
    "        \"value_type\": \"DOUBLE\",\n",
    "        \"description\": \"A variable of user challenges with friends\",\n",
    "        \"labels\": {\"status\": \"passed\"},\n",
    "    },\n",
    "    \"cnt_completed_5_levels\": {\n",
    "        \"value_type\": \"DOUBLE\",\n",
    "        \"description\": \"A variable of user level 5 completed\",\n",
    "        \"labels\": {\"status\": \"passed\"},\n",
    "    },\n",
    "    \"cnt_use_extra_steps\": {\n",
    "        \"value_type\": \"DOUBLE\",\n",
    "        \"description\": \"A variable of user extra steps\",\n",
    "        \"labels\": {\"status\": \"passed\"},\n",
    "    },\n",
    "    \"month\": {\n",
    "        \"value_type\": \"INT64\",\n",
    "        \"description\": \"First touch month\",\n",
    "        \"labels\": {\"status\": \"passed\"},\n",
    "    },\n",
    "    \"julianday\": {\n",
    "        \"value_type\": \"INT64\",\n",
    "        \"description\": \"First touch julian day\",\n",
    "        \"labels\": {\"status\": \"passed\"},\n",
    "    },\n",
    "    \"dayofweek\": {\n",
    "        \"value_type\": \"INT64\",\n",
    "        \"description\": \"First touch day of week\",\n",
    "        \"labels\": {\"status\": \"passed\"},\n",
    "    },\n",
    "}"
   ]
  },
  {
   "cell_type": "markdown",
   "id": "d2408b91-e81b-4122-8bea-293363a14223",
   "metadata": {},
   "source": [
    "#### Create features using `batch_create_features` method"
   ]
  },
  {
   "cell_type": "code",
   "execution_count": null,
   "id": "d3168d7f-ba72-4a21-a884-5e54e5292eeb",
   "metadata": {},
   "outputs": [],
   "source": [
    "try:\n",
    "    demographic_entity_type.batch_create_features(feature_configs=demographic_feature_configs, sync=True)\n",
    "except RuntimeError as error:\n",
    "    print(error)\n",
    "else:\n",
    "    for feature in demographic_entity_type.list_features():\n",
    "        print(\"\")\n",
    "        print(f\"The resource name of {feature.name} feature is\", feature.resource_name)"
   ]
  },
  {
   "cell_type": "code",
   "execution_count": null,
   "id": "d3f43f94-6289-488b-8239-7d7397725aad",
   "metadata": {},
   "outputs": [],
   "source": [
    "try:\n",
    "    behavior_entity_type.batch_create_features(feature_configs=behavior_feature_configs, sync=True)\n",
    "except RuntimeError as error:\n",
    "    print(error)\n",
    "else:\n",
    "    for feature in behavior_entity_type.list_features():\n",
    "        print(\"\")\n",
    "        print(f\"The resource name of {feature.name} feature is\", feature.resource_name)"
   ]
  },
  {
   "cell_type": "markdown",
   "id": "808307bb-7ae8-4c80-9344-7bb46177ac33",
   "metadata": {},
   "source": [
    "### Ingest features "
   ]
  },
  {
   "cell_type": "code",
   "execution_count": null,
   "id": "28508e36-bbf0-4a7c-958f-401f86022074",
   "metadata": {},
   "outputs": [],
   "source": [
    "DEMOGRAPHIC_FEATURES_IDS = [feature.name for feature in demographic_entity_type.list_features()]"
   ]
  },
  {
   "cell_type": "code",
   "execution_count": null,
   "id": "0e52bf58-7097-411e-bd7f-7ebfc8312b9a",
   "metadata": {},
   "outputs": [],
   "source": [
    "try:\n",
    "    demographic_entity_type.ingest_from_bq(\n",
    "        feature_ids=DEMOGRAPHIC_FEATURES_IDS,\n",
    "        feature_time=FEATURE_TIME,\n",
    "        bq_source_uri=BQ_SOURCE_URI,\n",
    "        entity_id_field=ENTITY_ID_FIELD,\n",
    "        disable_online_serving=False,\n",
    "        worker_count=10,\n",
    "        sync=False,\n",
    "    )\n",
    "except RuntimeError as error:\n",
    "    print(error)"
   ]
  },
  {
   "cell_type": "code",
   "execution_count": null,
   "id": "73345dfd-f8e2-4c77-9a60-907eb3d7e026",
   "metadata": {},
   "outputs": [],
   "source": [
    "BEHAVIOR_FEATURES_IDS = [feature.name for feature in behavior_entity_type.list_features()]"
   ]
  },
  {
   "cell_type": "code",
   "execution_count": null,
   "id": "4db9cc5f-9412-4bfc-a0b3-96711e86e5e7",
   "metadata": {},
   "outputs": [],
   "source": [
    "try:\n",
    "    behavior_entity_type.ingest_from_bq(\n",
    "        feature_ids=BEHAVIOR_FEATURES_IDS,\n",
    "        feature_time=FEATURE_TIME,\n",
    "        bq_source_uri=BQ_SOURCE_URI,\n",
    "        entity_id_field=ENTITY_ID_FIELD,\n",
    "        disable_online_serving=False,\n",
    "        worker_count=10,\n",
    "        sync=False,\n",
    "    )\n",
    "except RuntimeError as error:\n",
    "    print(error)"
   ]
  },
  {
   "cell_type": "markdown",
   "id": "2b1c00a5-7695-4edb-bede-16fb8ba9e4e8",
   "metadata": {},
   "source": [
    "# Create Feature Fetch Config"
   ]
  },
  {
   "cell_type": "code",
   "execution_count": null,
   "id": "64a7af26-02e0-4735-a499-f961e6e2f03a",
   "metadata": {},
   "outputs": [],
   "source": [
    "entity_config = {\n",
    "    \"demographic\": demographic_feature_configs,\n",
    "    \"behavior\": behavior_feature_configs\n",
    "}"
   ]
  },
  {
   "cell_type": "code",
   "execution_count": null,
   "id": "13c91eec-7f1b-45b4-b85f-105b95652661",
   "metadata": {},
   "outputs": [],
   "source": [
    "feature_config_string = \"\"\"modelInputFormat: DICT\n",
    "features:\"\"\"\n",
    "\n",
    "for entity_id,config in entity_config.items():\n",
    "    for feature_name in config.keys():\n",
    "        feature_config_string += \"\"\"\n",
    "- valueKey: {FEATURE_NAME}\n",
    "  featureSource:\n",
    "    entityIdKey: {ENTITY_ID}\n",
    "    entityType: projects/{PROJECT_NUMBER}/locations/{REGION}/featurestores/{FEATURESTORE_ID}/entityTypes/{ENTITY_ID}\n",
    "    featureId: {FEATURE_NAME}\"\"\".format(\n",
    "            FEATURE_NAME=feature_name,\n",
    "            ENTITY_ID=entity_id,\n",
    "            PROJECT_NUMBER=PROJECT_NUMBER,\n",
    "            REGION=REGION,\n",
    "            FEATURESTORE_ID=FEATURESTORE_ID)"
   ]
  },
  {
   "cell_type": "code",
   "execution_count": null,
   "id": "48132bb0-fed7-4188-b7f0-7b888d607ec6",
   "metadata": {
    "tags": []
   },
   "outputs": [],
   "source": [
    "print(feature_config_string)"
   ]
  },
  {
   "cell_type": "code",
   "execution_count": null,
   "id": "e367e8c3-3c78-4ead-b5e1-95e8d36f1493",
   "metadata": {},
   "outputs": [],
   "source": [
    "with open(\"prediction_featuresstore_fetch_config.yaml\", \"w\") as f:\n",
    "    f.write(feature_config_string)"
   ]
  },
  {
   "cell_type": "code",
   "execution_count": null,
   "id": "069218f7-7a49-4449-b906-19ecb33b93a7",
   "metadata": {},
   "outputs": [],
   "source": [
    "ARTIFACT_URI"
   ]
  },
  {
   "cell_type": "code",
   "execution_count": null,
   "id": "46ed1bae-8dad-4add-83cc-c30ea4f4c552",
   "metadata": {},
   "outputs": [],
   "source": [
    "# Remove if the file already exists\n",
    "!gsutil rm $ARTIFACT_URI/prediction_featuresstore_fetch_config.yaml"
   ]
  },
  {
   "cell_type": "code",
   "execution_count": null,
   "id": "c9c02b9e-60c9-49fa-8fc7-bd22195de3e5",
   "metadata": {},
   "outputs": [],
   "source": [
    "!gsutil cp prediction_featuresstore_fetch_config.yaml $ARTIFACT_URI"
   ]
  },
  {
   "cell_type": "markdown",
   "id": "ca8f5dde-d84a-408e-8f64-829e309e72fb",
   "metadata": {},
   "source": [
    "# Integrate with Vertex Prediction"
   ]
  },
  {
   "cell_type": "markdown",
   "id": "3c3eb40a-df1c-4fb1-9de6-450da93d1356",
   "metadata": {},
   "source": [
    "**NOTE:** The feature is only available in `autopush` now"
   ]
  },
  {
   "cell_type": "code",
   "execution_count": null,
   "id": "10a15d41-49f1-4ba9-97fe-bd644f78c78e",
   "metadata": {},
   "outputs": [],
   "source": [
    "import google.cloud.aiplatform as aip\n",
    "aip.constants.base.API_BASE_PATH = 'autopush-aiplatform.sandbox.googleapis.com'\n",
    "aip.constants.base.PREDICTION_API_BASE_PATH = 'autopush-prediction-aiplatform.sandbox.googleapis.com'\n",
    "\n",
    "from datetime import datetime\n",
    "\n",
    "TIMESTAMP = datetime.now().strftime(\"%Y%m%d%H%M%S\")"
   ]
  },
  {
   "cell_type": "markdown",
   "id": "350984ac-6536-43b0-baf4-875f665bf604",
   "metadata": {},
   "source": [
    "## Upload Model"
   ]
  },
  {
   "cell_type": "code",
   "execution_count": null,
   "id": "d5fdbee6-a734-4925-adf4-7d64a4c6e89d",
   "metadata": {},
   "outputs": [],
   "source": [
    "DEPLOY_IMAGE = \"us-docker.pkg.dev/vertex-ai/prediction/tf2-cpu.2-7:latest\""
   ]
  },
  {
   "cell_type": "code",
   "execution_count": null,
   "id": "43086dc7-a2d2-44c5-a9e2-0500e88c9824",
   "metadata": {},
   "outputs": [],
   "source": [
    "model = aip.Model.upload(\n",
    "    display_name=\"mobile_gaming_featureStore_integration_\" + TIMESTAMP,\n",
    "    artifact_uri=ARTIFACT_URI,\n",
    "    serving_container_image_uri=DEPLOY_IMAGE,\n",
    "    sync=False,\n",
    ")\n",
    "\n",
    "model.wait()"
   ]
  },
  {
   "cell_type": "markdown",
   "id": "8ca388b5-b753-47a3-be26-438b0cb8573f",
   "metadata": {},
   "source": [
    "## Deploy Model"
   ]
  },
  {
   "cell_type": "code",
   "execution_count": null,
   "id": "573af33e-35bb-4f3f-a68c-d0d53ef4a0ab",
   "metadata": {},
   "outputs": [],
   "source": [
    "\n",
    "DEPLOYED_NAME = \"mobile_gaming_featureStore_integration_\" + TIMESTAMP\n",
    "\n",
    "TRAFFIC_SPLIT = {\"0\": 100}\n",
    "\n",
    "MACHINE_TYPE = 'n1-standard-4'\n",
    "\n",
    "MIN_NODES = 1\n",
    "MAX_NODES = 1\n",
    "\n",
    "endpoint = model.deploy(\n",
    "    deployed_model_display_name=DEPLOYED_NAME,\n",
    "    traffic_split=TRAFFIC_SPLIT,\n",
    "    machine_type=MACHINE_TYPE,\n",
    "    min_replica_count=MIN_NODES,\n",
    "    max_replica_count=MAX_NODES,\n",
    "    service_account=SERVICE_ACCOUNT\n",
    ")"
   ]
  },
  {
   "cell_type": "markdown",
   "id": "5a2438b5-fa1b-482d-9dac-eb39ceed719f",
   "metadata": {},
   "source": [
    "## Predict"
   ]
  },
  {
   "cell_type": "markdown",
   "id": "f4767b8c-c17d-4423-b148-7d40f5e757d6",
   "metadata": {},
   "source": [
    "### Get Test Prediction Request"
   ]
  },
  {
   "cell_type": "code",
   "execution_count": null,
   "id": "1fd33835-b779-47aa-ba40-a99a1c80bf05",
   "metadata": {},
   "outputs": [],
   "source": [
    "MODEL_INPUT_QUERY = f\"\"\"\n",
    "WITH user_latest_action AS (\n",
    "  SELECT \n",
    "    user_pseudo_id,\n",
    "    MAX(timestamp) AS timestamp\n",
    "  FROM\n",
    "    `{PROJECT_ID}.{BQ_DATASET}.{FEATURES_TABLE}` AS t\n",
    "  GROUP BY user_pseudo_id\n",
    ")\n",
    "SELECT \n",
    "  country,\n",
    "\tcnt_spend_virtual_currency,\n",
    "\tlanguage,\n",
    "\tcnt_completed_5_levels,\n",
    "\tuser_latest_action.user_pseudo_id,\n",
    "\tcnt_level_reset_quickplay,\n",
    "\tdayofweek,\n",
    "\tcnt_ad_reward,\n",
    "\tcnt_challenge_a_friend,\n",
    "\tcnt_level_end_quickplay,\n",
    "\tcnt_level_complete_quickplay,\n",
    "\tjulianday,\n",
    "\tcnt_post_score,\n",
    "\tcnt_level_start_quickplay,\n",
    "\tmonth,\n",
    "\tcnt_user_engagement,\n",
    "\toperating_system,\n",
    "\tcnt_use_extra_steps,\n",
    "FROM\n",
    "  user_latest_action \n",
    "LEFT JOIN\n",
    "  `{PROJECT_ID}.{BQ_DATASET}.{FEATURES_TABLE}` AS t\n",
    "ON\n",
    "  user_latest_action.user_pseudo_id=t.user_pseudo_id AND\n",
    "  user_latest_action.timestamp=t.timestamp\n",
    "LIMIT 5\n",
    "\"\"\""
   ]
  },
  {
   "cell_type": "code",
   "execution_count": null,
   "id": "963d1697-52e6-4e8d-bfb2-cc0ce185a65d",
   "metadata": {},
   "outputs": [],
   "source": [
    "try:\n",
    "    job = bq_client.query(MODEL_INPUT_QUERY)\n",
    "    model_input_query_result = job.result()\n",
    "except RuntimeError as error:\n",
    "    print(error)"
   ]
  },
  {
   "cell_type": "code",
   "execution_count": null,
   "id": "e7c713dd-926d-4e3d-a325-1161c45fa25a",
   "metadata": {
    "tags": []
   },
   "outputs": [],
   "source": [
    "DEFAULT_PRED_REQUEST = [dict(row) for row in model_input_query_result]\n",
    "DEFAULT_PRED_REQUEST"
   ]
  },
  {
   "cell_type": "code",
   "execution_count": null,
   "id": "ef137aba-95ab-4cb6-b859-e85afef9a792",
   "metadata": {},
   "outputs": [],
   "source": [
    "FS_PRED_REQUEST = [{\n",
    "        \"demographic\": default_input[\"user_pseudo_id\"],\n",
    "        \"behavior\": default_input[\"user_pseudo_id\"]\n",
    "    } for default_input in DEFAULT_PRED_REQUEST]\n",
    "FS_PRED_REQUEST"
   ]
  },
  {
   "cell_type": "code",
   "execution_count": null,
   "id": "7c923330-d9e0-4203-9ea7-d8b59ecaf00d",
   "metadata": {},
   "outputs": [],
   "source": [
    "endpoint.predict([DEFAULT_PRED_REQUEST[0]])"
   ]
  },
  {
   "cell_type": "code",
   "execution_count": null,
   "id": "4f22a20e-95bc-4e9f-93ca-25491577839d",
   "metadata": {},
   "outputs": [],
   "source": [
    "DEFAULT_RESPONSE = endpoint.predict(DEFAULT_PRED_REQUEST)"
   ]
  },
  {
   "cell_type": "markdown",
   "id": "a8c58670-5411-4cb0-ab97-3719017474d8",
   "metadata": {},
   "source": [
    "### Single instance"
   ]
  },
  {
   "cell_type": "code",
   "execution_count": null,
   "id": "6052ace6-114f-4775-89bf-97b3bea3676d",
   "metadata": {},
   "outputs": [],
   "source": [
    "endpoint.predict([FS_PRED_REQUEST[0]])"
   ]
  },
  {
   "cell_type": "markdown",
   "id": "81aa2c18-7c3d-4953-b5d0-140ae1fd8b92",
   "metadata": {},
   "source": [
    "### Multiple instances"
   ]
  },
  {
   "cell_type": "code",
   "execution_count": null,
   "id": "865fc409-72f7-4c99-add3-3f101bd4f97d",
   "metadata": {},
   "outputs": [],
   "source": [
    "FS_RESPONSE = endpoint.predict(FS_PRED_REQUEST)"
   ]
  },
  {
   "cell_type": "markdown",
   "id": "3ea12273-5dfe-42dd-8971-2d6bc774dce3",
   "metadata": {},
   "source": [
    "### Compare response"
   ]
  },
  {
   "cell_type": "code",
   "execution_count": null,
   "id": "e6e9c254-0372-4d54-847e-7e7541cedc55",
   "metadata": {},
   "outputs": [],
   "source": [
    "DEFAULT_RESPONSE.predictions == FS_RESPONSE.predictions"
   ]
  },
  {
   "cell_type": "markdown",
   "id": "38c9a460-8ded-47b4-9d9e-128cfc220381",
   "metadata": {},
   "source": [
    "# Clean Up"
   ]
  },
  {
   "cell_type": "code",
   "execution_count": null,
   "id": "e05a93aa-9334-4cdd-9f8b-aac6b1cfd1ec",
   "metadata": {},
   "outputs": [],
   "source": [
    "# delete feature store\n",
    "mobile_gaming_feature_store.delete(sync=True, force=True)"
   ]
  },
  {
   "cell_type": "code",
   "execution_count": null,
   "id": "5f2c86e9-1f26-4a6e-8174-22bf65609cf5",
   "metadata": {},
   "outputs": [],
   "source": [
    "# delete Vertex AI resources\n",
    "endpoint.undeploy_all()\n",
    "endpoint.delete()\n",
    "model.delete"
   ]
  },
  {
   "cell_type": "code",
   "execution_count": null,
   "id": "af3fea20-fcfb-4607-8b44-4f0e25011cfd",
   "metadata": {},
   "outputs": [],
   "source": [
    "# Delete bucket\n",
    "!gsutil -m rm -r $BUCKET_URI"
   ]
  },
  {
   "cell_type": "code",
   "execution_count": null,
   "id": "a1b7c559-04f1-45d6-ad1b-312fd5e7113a",
   "metadata": {},
   "outputs": [],
   "source": [
    "# Delete the BigQuery Dataset\n",
    "!bq rm -r -f -d $PROJECT_ID:$BQ_DATASET"
   ]
  },
  {
   "cell_type": "code",
   "execution_count": null,
   "id": "8177555d-c00b-4e9f-a4c6-336ddac718aa",
   "metadata": {},
   "outputs": [],
   "source": []
  }
 ],
 "metadata": {
  "kernelspec": {
   "display_name": "Python 3 (ipykernel)",
   "language": "python",
   "name": "python3"
  },
  "language_info": {
   "codemirror_mode": {
    "name": "ipython",
    "version": 3
   },
   "file_extension": ".py",
   "mimetype": "text/x-python",
   "name": "python",
   "nbconvert_exporter": "python",
   "pygments_lexer": "ipython3",
   "version": "3.10.8"
  }
 },
 "nbformat": 4,
 "nbformat_minor": 5
}
