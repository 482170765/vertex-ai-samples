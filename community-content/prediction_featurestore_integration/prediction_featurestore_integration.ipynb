{
  "cells": [
    {
      "cell_type": "markdown",
      "metadata": {
        "id": "7aa1a6f5db32"
      },
      "source": [
        "# Overview"
      ]
    },
    {
      "cell_type": "markdown",
      "metadata": {
        "id": "0a2a426f71c0"
      },
      "source": [
        "This notebook is based on this [Prediction and Feature Store Online Serving](https://github.com/GoogleCloudPlatform/vertex-ai-samples/blob/main/notebooks/community/feature_store/mobile_gaming/mobile_gaming_feature_store.ipynb) notebook and [this blog post](https://cloud.google.com/blog/topics/developers-practitioners/churn-prediction-game-developers-using-google-analytics-4-ga4-and-bigquery-ml)"
      ]
    },
    {
      "cell_type": "markdown",
      "metadata": {
        "id": "bb819819a5c9"
      },
      "source": [
        "### Dataset\n",
        "\n",
        "The dataset is the public sample export data from an actual mobile game app called \"Flood It!\" (Android, iOS)\n",
        "\n",
        "### Model\n",
        "\n",
        "The model you use in this notebook is based on [this blog post](https://cloud.google.com/blog/topics/developers-practitioners/churn-prediction-game-developers-using-google-analytics-4-ga4-and-bigquery-ml). The idea behind this model is that your company has extensive log data describing how your game users have interacted with the site. The raw data contains the following categories of information:\n",
        "\n",
        "- identity - unique player identitity numbers\n",
        "- demographic features - information about the player, such as the geographic region in which a player is located\n",
        "- behavioral features - counts of the number of times a  player has triggered certain game events, such as reaching a new level\n",
        "- churn propensity - this is the label or target feature, it provides an estimated probability that this player will churn, i.e. stop being an active player.\n",
        "\n",
        "The blog article referenced above explains how to use BigQuery to store the raw data, pre-process the data for machine learning, and train the corresponding model. Because this notebook focuses on model monitoring, rather than training models, you're going to reuse a pre-trained version of this model, which has been exported to Cloud Storage, which is stored in `gs://mco-mm/churn`"
      ]
    },
    {
      "cell_type": "markdown",
      "metadata": {
        "id": "0e87d0008c86"
      },
      "source": [
        "# Basic set up"
      ]
    },
    {
      "cell_type": "markdown",
      "metadata": {
        "id": "2ced96588e13"
      },
      "source": [
        "## Install packages"
      ]
    },
    {
      "cell_type": "code",
      "execution_count": null,
      "metadata": {
        "id": "4811add5cd1c"
      },
      "outputs": [],
      "source": [
        "! pip install google-cloud-aiplatform"
      ]
    },
    {
      "cell_type": "markdown",
      "metadata": {
        "id": "c7947573e336"
      },
      "source": [
        "## Set up project"
      ]
    },
    {
      "cell_type": "code",
      "execution_count": null,
      "metadata": {
        "id": "94f36c0f4a00"
      },
      "outputs": [],
      "source": [
        "import os\n",
        "\n",
        "PROJECT_ID = \"\"\n",
        "\n",
        "# Get your Google Cloud project ID from gcloud\n",
        "if not os.getenv(\"IS_TESTING\"):\n",
        "    shell_output = !gcloud config list --format 'value(core.project)' 2>/dev/null\n",
        "    PROJECT_ID = shell_output[0]\n",
        "    print(\"Project ID: \", PROJECT_ID)"
      ]
    },
    {
      "cell_type": "code",
      "execution_count": null,
      "metadata": {
        "id": "7d439758446b"
      },
      "outputs": [],
      "source": [
        "if PROJECT_ID == \"\" or PROJECT_ID is None:\n",
        "    PROJECT_ID = \"[your-project-id]\"  # @param {type:\"string\"}"
      ]
    },
    {
      "cell_type": "code",
      "execution_count": null,
      "metadata": {
        "id": "56a76e9ebc4d"
      },
      "outputs": [],
      "source": [
        "shell_output = ! gcloud projects list --filter=\"PROJECT_ID:'{PROJECT_ID}'\" --format='value(PROJECT_NUMBER)'\n",
        "PROJECT_NUMBER = shell_output[0]\n",
        "print(\"Project Number:\", PROJECT_NUMBER)"
      ]
    },
    {
      "cell_type": "code",
      "execution_count": null,
      "metadata": {
        "id": "a74685b6ae29"
      },
      "outputs": [],
      "source": [
        "! gcloud config set project $PROJECT_ID"
      ]
    },
    {
      "cell_type": "markdown",
      "metadata": {
        "id": "45ce10439ef8"
      },
      "source": [
        "The feature is only available in `us-central1` now"
      ]
    },
    {
      "cell_type": "code",
      "execution_count": null,
      "metadata": {
        "id": "7fdcbacfa8ad"
      },
      "outputs": [],
      "source": [
        "REGION = \"us-central1\""
      ]
    },
    {
      "cell_type": "markdown",
      "metadata": {
        "id": "c03afe801c7b"
      },
      "source": [
        "## Authenticate your Google Cloud account"
      ]
    },
    {
      "cell_type": "markdown",
      "metadata": {
        "id": "254b58f37761"
      },
      "source": [
        "If you are using Vertex AI Workbench Notebooks, your environment is already authenticated. Skip this step.\n",
        "\n",
        "If you are using Colab, run the cell below and follow the instructions when prompted to authenticate your account via oAuth.\n",
        "\n",
        "Otherwise, follow these steps:\n",
        "\n",
        "1. In the Cloud Console, go to the Create service account key page.\n",
        "\n",
        "2. Click Create service account.\n",
        "\n",
        "3. In the Service account name field, enter a name, and click Create.\n",
        "\n",
        "4. In the Grant this service account access to project section, click the Role drop-down list and add the following roles:\n",
        "\n",
        "- BigQuery Admin\n",
        "- Storage Admin\n",
        "- Storage Object Admin\n",
        "- Vertex AI Administrator\n",
        "- Vertex AI Feature Store Admin\n",
        "\n",
        "5. Click Create. A JSON file that contains your key downloads to your local environment.\n",
        "\n",
        "6. Enter the path to your service account key as the `GOOGLE_APPLICATION_CREDENTIALS` variable in the cell below and run the cell."
      ]
    },
    {
      "cell_type": "code",
      "execution_count": null,
      "metadata": {
        "id": "6a08e2a6c84f"
      },
      "outputs": [],
      "source": [
        "# If you are running this notebook in Colab, run this cell and follow the\n",
        "# instructions to authenticate your GCP account. This provides access to your\n",
        "# Cloud Storage bucket and lets you submit training jobs and prediction\n",
        "# requests.\n",
        "\n",
        "import os\n",
        "import sys\n",
        "\n",
        "# If on Vertex AI Workbench, then don't execute this code\n",
        "IS_COLAB = \"google.colab\" in sys.modules\n",
        "if not os.path.exists(\"/opt/deeplearning/metadata/env_version\") and not os.getenv(\n",
        "    \"DL_ANACONDA_HOME\"\n",
        "):\n",
        "    if \"google.colab\" in sys.modules:\n",
        "        from google.colab import auth as google_auth\n",
        "\n",
        "        google_auth.authenticate_user()\n",
        "\n",
        "    # If you are running this notebook locally, replace the string below with the\n",
        "    # path to your service account key and run this cell to authenticate your GCP\n",
        "    # account.\n",
        "    elif not os.getenv(\"IS_TESTING\"):\n",
        "        %env GOOGLE_APPLICATION_CREDENTIALS ''"
      ]
    },
    {
      "cell_type": "markdown",
      "metadata": {
        "id": "2f52dced4061"
      },
      "source": [
        "Create a bucket and copy the exported model to it"
      ]
    },
    {
      "cell_type": "code",
      "execution_count": null,
      "metadata": {
        "id": "12c9381edd2a"
      },
      "outputs": [],
      "source": [
        "BUCKET_NAME = \"[your-bucket-name]\"  # @param {type:\"string\"}\n",
        "BUCKET_URI = f\"gs://{BUCKET_NAME}\""
      ]
    },
    {
      "cell_type": "code",
      "execution_count": null,
      "metadata": {
        "id": "50c6cda053e1"
      },
      "outputs": [],
      "source": [
        "if BUCKET_NAME == \"\" or BUCKET_NAME is None or BUCKET_NAME == \"[your-bucket-name]\":\n",
        "    BUCKET_NAME = PROJECT_ID + \"-aip-\" + TIMESTAMP\n",
        "    BUCKET_URI = f\"gs://{BUCKET_NAME}\""
      ]
    },
    {
      "cell_type": "markdown",
      "metadata": {
        "id": "197c22fada47"
      },
      "source": [
        "Only if your bucket doesn't already exist: Run the following cell to create your Cloud Storage bucket."
      ]
    },
    {
      "cell_type": "code",
      "execution_count": null,
      "metadata": {
        "id": "2de44a514cd1"
      },
      "outputs": [],
      "source": [
        "! gsutil mb -l $REGION -p $PROJECT_ID $BUCKET_URI"
      ]
    },
    {
      "cell_type": "code",
      "execution_count": null,
      "metadata": {
        "id": "ca57dc423195"
      },
      "outputs": [],
      "source": [
        "! gsutil ls -al $BUCKET_URI"
      ]
    },
    {
      "cell_type": "markdown",
      "metadata": {
        "id": "0a6202578b94"
      },
      "source": [
        "Copy the trained model to your bucket"
      ]
    },
    {
      "cell_type": "code",
      "execution_count": null,
      "metadata": {
        "id": "6b2501fc7f01"
      },
      "outputs": [],
      "source": [
        "! gsutil cp -r gs://mco-mm/churn $BUCKET_URI"
      ]
    },
    {
      "cell_type": "code",
      "execution_count": null,
      "metadata": {
        "id": "a5c4625a0253"
      },
      "outputs": [],
      "source": [
        "ARTIFACT_URI = f\"gs://{BUCKET_NAME}/churn\""
      ]
    },
    {
      "cell_type": "markdown",
      "metadata": {
        "id": "c672b6901814"
      },
      "source": [
        "### Create a service account\n",
        "\n",
        "We need a service account for this new feature because the prediction workload's credential does not have access to Feature Store. Create one and grant the role `roles/aiplatform.serviceAgent` to it, which will grant it the access to most prediction's resources and Feature Store."
      ]
    },
    {
      "cell_type": "code",
      "execution_count": null,
      "metadata": {
        "id": "534b78bcc16d"
      },
      "outputs": [],
      "source": [
        "SA_NAME = \"prediction-and-fs-testing\"\n",
        "SA_DESCRIPTION = '\"SA to test Prediction and Feature Store integration\"'\n",
        "DISPLAY_NAME = \"prediction-and-fs-testing\""
      ]
    },
    {
      "cell_type": "code",
      "execution_count": null,
      "metadata": {
        "id": "3cf1c055b80e"
      },
      "outputs": [],
      "source": [
        "!gcloud iam service-accounts create $SA_NAME \\\n",
        "    --description=$SA_DESCRIPTION \\\n",
        "    --display-name=$DISPLAY_NAME"
      ]
    },
    {
      "cell_type": "code",
      "execution_count": null,
      "metadata": {
        "id": "fef2f4529b22"
      },
      "outputs": [],
      "source": [
        "# SERVICE_ACCOUNT = \"prediction-and-fs@bon-test-0.iam.gserviceaccount.com\"\n",
        "SERVICE_ACCOUNT = (\n",
        "    f\"{SA_NAME}@{PROJECT_ID}.iam.gserviceaccount.com\"  # @param {type:\"string\"}\n",
        ")"
      ]
    },
    {
      "cell_type": "markdown",
      "metadata": {
        "id": "8d7d03ced198"
      },
      "source": [
        "Grant the Service account the `Vertex AI Service Agent` role which has access to most Vertex AI resources including Feature Store."
      ]
    },
    {
      "cell_type": "code",
      "execution_count": null,
      "metadata": {
        "id": "1e6af5ebae1f"
      },
      "outputs": [],
      "source": [
        "!gcloud projects add-iam-policy-binding $PROJECT_ID \\\n",
        "    --member=serviceAccount:$SERVICE_ACCOUNT \\\n",
        "    --role=roles/aiplatform.serviceAgent;"
      ]
    },
    {
      "cell_type": "markdown",
      "metadata": {
        "id": "17c464cec341"
      },
      "source": [
        "## Timestamp"
      ]
    },
    {
      "cell_type": "code",
      "execution_count": null,
      "metadata": {
        "id": "9fa11b3e7936"
      },
      "outputs": [],
      "source": [
        "from datetime import datetime\n",
        "\n",
        "TIMESTAMP = datetime.now().strftime(\"%Y%m%d%H%M%S\")"
      ]
    },
    {
      "cell_type": "markdown",
      "metadata": {
        "id": "16c8d163bdd1"
      },
      "source": [
        "# Create Feature Store"
      ]
    },
    {
      "cell_type": "markdown",
      "metadata": {
        "id": "79e5c5430904"
      },
      "source": [
        "## Get data from Big Query"
      ]
    },
    {
      "cell_type": "code",
      "execution_count": null,
      "metadata": {
        "id": "eeca4365308d"
      },
      "outputs": [],
      "source": [
        "BQ_DATASET = \"Mobile_Gaming_FS_Pred\"  # @param {type:\"string\"}\n",
        "LOCATION = \"US\""
      ]
    },
    {
      "cell_type": "code",
      "execution_count": null,
      "metadata": {
        "id": "ac0948203d8b"
      },
      "outputs": [],
      "source": [
        "!bq mk --location=$LOCATION --dataset $PROJECT_ID:$BQ_DATASET"
      ]
    },
    {
      "cell_type": "code",
      "execution_count": null,
      "metadata": {
        "id": "0582b3d0d107"
      },
      "outputs": [],
      "source": [
        "# General\n",
        "import os\n",
        "import sys\n",
        "\n",
        "# Vertex AI and its Feature Store\n",
        "from google.cloud import bigquery\n",
        "from google.cloud.aiplatform import Featurestore"
      ]
    },
    {
      "cell_type": "code",
      "execution_count": null,
      "metadata": {
        "id": "8095b6497a7c"
      },
      "outputs": [],
      "source": [
        "# Data Engineering and Feature Engineering\n",
        "LABEL_TABLE = f\"label_table_{TIMESTAMP}\".replace(\"-\", \"\")\n",
        "FEATURES_TABLE = f\"wide_features_table_{TIMESTAMP}\"  # @param {type:\"string\"}\n",
        "FEATURESTORE_ID = \"mobile_gaming4\"  # @param {type:\"string\"}\n",
        "\n",
        "# Vertex AI Feature store\n",
        "ONLINE_STORE_NODES_COUNT = 5\n",
        "DEMOGRAPHIC_ENTITY_ID = \"demographic\"\n",
        "BEHAVIOR_ENTITY_ID = \"behavior\"\n",
        "FEATURE_TIME = \"timestamp\"\n",
        "ENTITY_ID_FIELD = \"user_pseudo_id\"\n",
        "BQ_SOURCE_URI = f\"bq://{PROJECT_ID}.{BQ_DATASET}.{FEATURES_TABLE}\""
      ]
    },
    {
      "cell_type": "markdown",
      "metadata": {
        "id": "a8138b6265b1"
      },
      "source": [
        "## Query data"
      ]
    },
    {
      "cell_type": "code",
      "execution_count": null,
      "metadata": {
        "id": "d890c95bb257"
      },
      "outputs": [],
      "source": [
        "bq_client = bigquery.Client(project=PROJECT_ID, location=LOCATION)"
      ]
    },
    {
      "cell_type": "markdown",
      "metadata": {
        "id": "a7ac128d8162"
      },
      "source": [
        "This notebook is mainly to demo our new feature, so, I'll just query 1000 non-null rows"
      ]
    },
    {
      "cell_type": "code",
      "execution_count": null,
      "metadata": {
        "id": "71803d961240"
      },
      "outputs": [],
      "source": [
        "features_sql_query = f\"\"\"\n",
        "CREATE OR REPLACE TABLE\n",
        "  `{PROJECT_ID}.{BQ_DATASET}.{FEATURES_TABLE}` AS\n",
        "WITH\n",
        "  # query to extract demographic data for each user ---------------------------------------------------------\n",
        "  get_demographic_data AS (\n",
        "  SELECT * EXCEPT (row_num)\n",
        "  FROM (\n",
        "    SELECT\n",
        "      user_pseudo_id,\n",
        "      geo.country as country,\n",
        "      device.operating_system as operating_system,\n",
        "      device.language as language,\n",
        "      ROW_NUMBER() OVER (PARTITION BY user_pseudo_id ORDER BY event_timestamp DESC) AS row_num\n",
        "    FROM `firebase-public-project.analytics_153293282.events_*`)\n",
        "  WHERE row_num = 1),\n",
        "\n",
        "  # query to extract behavioral data for each user ----------------------------------------------------------\n",
        "  get_behavioral_data AS (\n",
        "  SELECT\n",
        "    event_timestamp,\n",
        "    user_pseudo_id,\n",
        "    SUM(IF(event_name = 'user_engagement', 1, 0)) OVER (PARTITION BY user_pseudo_id ORDER BY event_timestamp ASC RANGE BETWEEN 21600000000 PRECEDING\n",
        "      AND CURRENT ROW ) AS cnt_user_engagement,\n",
        "    SUM(IF(event_name = 'level_start_quickplay', 1, 0)) OVER (PARTITION BY user_pseudo_id ORDER BY event_timestamp ASC RANGE BETWEEN 21600000000 PRECEDING\n",
        "      AND CURRENT ROW ) AS cnt_level_start_quickplay,\n",
        "    SUM(IF(event_name = 'level_end_quickplay', 1, 0)) OVER (PARTITION BY user_pseudo_id ORDER BY event_timestamp ASC RANGE BETWEEN 21600000000 PRECEDING\n",
        "      AND CURRENT ROW ) AS cnt_level_end_quickplay,\n",
        "    SUM(IF(event_name = 'level_complete_quickplay', 1, 0)) OVER (PARTITION BY user_pseudo_id ORDER BY event_timestamp ASC RANGE BETWEEN 21600000000 PRECEDING\n",
        "      AND CURRENT ROW ) AS cnt_level_complete_quickplay,\n",
        "    SUM(IF(event_name = 'level_reset_quickplay', 1, 0)) OVER (PARTITION BY user_pseudo_id ORDER BY event_timestamp ASC RANGE BETWEEN 21600000000 PRECEDING\n",
        "      AND CURRENT ROW ) AS cnt_level_reset_quickplay,\n",
        "    SUM(IF(event_name = 'post_score', 1, 0)) OVER (PARTITION BY user_pseudo_id ORDER BY event_timestamp ASC RANGE BETWEEN 21600000000 PRECEDING\n",
        "      AND CURRENT ROW ) AS cnt_post_score,\n",
        "    SUM(IF(event_name = 'spend_virtual_currency', 1, 0)) OVER (PARTITION BY user_pseudo_id ORDER BY event_timestamp ASC RANGE BETWEEN 21600000000 PRECEDING\n",
        "      AND CURRENT ROW ) AS cnt_spend_virtual_currency,\n",
        "    SUM(IF(event_name = 'ad_reward', 1, 0)) OVER (PARTITION BY user_pseudo_id ORDER BY event_timestamp ASC RANGE BETWEEN 21600000000 PRECEDING\n",
        "      AND CURRENT ROW ) AS cnt_ad_reward,\n",
        "    SUM(IF(event_name = 'challenge_a_friend', 1, 0)) OVER (PARTITION BY user_pseudo_id ORDER BY event_timestamp ASC RANGE BETWEEN 21600000000 PRECEDING\n",
        "      AND CURRENT ROW ) AS cnt_challenge_a_friend,\n",
        "    SUM(IF(event_name = 'completed_5_levels', 1, 0)) OVER (PARTITION BY user_pseudo_id ORDER BY event_timestamp ASC RANGE BETWEEN 21600000000 PRECEDING\n",
        "      AND CURRENT ROW ) AS cnt_completed_5_levels,\n",
        "    SUM(IF(event_name = 'use_extra_steps', 1, 0)) OVER (PARTITION BY user_pseudo_id ORDER BY event_timestamp ASC RANGE BETWEEN 21600000000 PRECEDING\n",
        "      AND CURRENT ROW ) AS cnt_use_extra_steps,\n",
        "  FROM (\n",
        "    SELECT\n",
        "      e.*\n",
        "    FROM\n",
        "      `firebase-public-project.analytics_153293282.events_*` AS e\n",
        "    )\n",
        "  ),\n",
        "\n",
        "  # query to extract the first and last time user play the game --------------------------------------------\n",
        "  first_last_touch AS (\n",
        "    SELECT\n",
        "      user_pseudo_id,\n",
        "      MIN(event_timestamp) AS user_first_engagement,\n",
        "      MAX(event_timestamp) AS user_last_engagement\n",
        "    FROM\n",
        "      `firebase-public-project.analytics_153293282.events_*`\n",
        "    WHERE event_name=\"user_engagement\"\n",
        "    GROUP BY\n",
        "      user_pseudo_id\n",
        "\n",
        "  )\n",
        "\n",
        "SELECT full_data.*\n",
        "FROM (\n",
        "SELECT\n",
        "    TIMESTAMP_ADD(PARSE_TIMESTAMP('%Y-%m-%d %H:%M:%S', FORMAT_TIMESTAMP('%Y-%m-%d %H:%M:%S', TIMESTAMP_MICROS(beh.event_timestamp))), INTERVAL 1351 DAY) AS timestamp,\n",
        "    dem.*,\n",
        "    CAST(IFNULL(beh.cnt_user_engagement, 0) AS FLOAT64)  AS cnt_user_engagement,\n",
        "    CAST(IFNULL(beh.cnt_level_start_quickplay, 0) AS FLOAT64) AS cnt_level_start_quickplay,\n",
        "    CAST(IFNULL(beh.cnt_level_end_quickplay, 0) AS FLOAT64) AS cnt_level_end_quickplay,\n",
        "    CAST(IFNULL(beh.cnt_level_complete_quickplay, 0) AS FLOAT64) AS cnt_level_complete_quickplay,\n",
        "    CAST(IFNULL(beh.cnt_level_reset_quickplay, 0) AS FLOAT64) AS cnt_level_reset_quickplay,\n",
        "    CAST(IFNULL(beh.cnt_post_score, 0) AS FLOAT64) AS cnt_post_score,\n",
        "    CAST(IFNULL(beh.cnt_spend_virtual_currency, 0) AS FLOAT64) AS cnt_spend_virtual_currency,\n",
        "    CAST(IFNULL(beh.cnt_ad_reward, 0) AS FLOAT64) AS cnt_ad_reward,\n",
        "    CAST(IFNULL(beh.cnt_challenge_a_friend, 0) AS FLOAT64) AS cnt_challenge_a_friend,\n",
        "    CAST(IFNULL(beh.cnt_completed_5_levels, 0) AS FLOAT64) AS cnt_completed_5_levels,\n",
        "    CAST(IFNULL(beh.cnt_use_extra_steps, 0) AS FLOAT64) AS cnt_use_extra_steps,\n",
        "    flt.user_first_engagement,\n",
        "    flt.user_last_engagement,\n",
        "    EXTRACT(MONTH from TIMESTAMP_MICROS(flt.user_first_engagement)) as month,\n",
        "    EXTRACT(DAYOFYEAR from TIMESTAMP_MICROS(flt.user_first_engagement)) as julianday,\n",
        "    EXTRACT(DAYOFWEEK from TIMESTAMP_MICROS(flt.user_first_engagement)) as dayofweek,\n",
        "    \n",
        "FROM\n",
        "  get_demographic_data dem\n",
        "LEFT OUTER JOIN \n",
        "  get_behavioral_data beh\n",
        "ON\n",
        "  dem.user_pseudo_id = beh.user_pseudo_id\n",
        "LEFT OUTER JOIN\n",
        "  first_last_touch flt\n",
        "ON\n",
        "  dem.user_pseudo_id = flt.user_pseudo_id) as full_data\n",
        "# filter to only get rows with all non-null data\n",
        "WHERE NOT REGEXP_CONTAINS(TO_JSON_STRING(full_data), r':null[,}}]')\n",
        "# to save time for the demo, only get the first 1000 rows\n",
        "LIMIT 1000\n",
        "\"\"\""
      ]
    },
    {
      "cell_type": "code",
      "execution_count": null,
      "metadata": {
        "id": "b31ee8f3a81c"
      },
      "outputs": [],
      "source": [
        "try:\n",
        "    job = bq_client.query(features_sql_query)\n",
        "    _ = job.result()\n",
        "except RuntimeError as error:\n",
        "    print(error)"
      ]
    },
    {
      "cell_type": "markdown",
      "metadata": {
        "id": "2ad3292a6c06"
      },
      "source": [
        "## Create Feature Store"
      ]
    },
    {
      "cell_type": "code",
      "execution_count": null,
      "metadata": {
        "id": "df4350b83116"
      },
      "outputs": [],
      "source": [
        "try:\n",
        "    mobile_gaming_feature_store = Featurestore.create(\n",
        "        featurestore_id=FEATURESTORE_ID,\n",
        "        online_store_fixed_node_count=ONLINE_STORE_NODES_COUNT,\n",
        "        sync=True,\n",
        "    )\n",
        "except RuntimeError as error:\n",
        "    print(error)\n",
        "else:\n",
        "    FEATURESTORE_RESOURCE_NAME = mobile_gaming_feature_store.resource_name\n",
        "    print(f\"Feature store created: {FEATURESTORE_RESOURCE_NAME}\")"
      ]
    },
    {
      "cell_type": "markdown",
      "metadata": {
        "id": "605a045188ae"
      },
      "source": [
        "### Create Entities"
      ]
    },
    {
      "cell_type": "code",
      "execution_count": null,
      "metadata": {
        "id": "d050f933d008"
      },
      "outputs": [],
      "source": [
        "try:\n",
        "    demographic_entity_type = mobile_gaming_feature_store.create_entity_type(\n",
        "        entity_type_id=DEMOGRAPHIC_ENTITY_ID,\n",
        "        description=\"User demographic Entity\",\n",
        "        sync=True,\n",
        "    )\n",
        "except RuntimeError as error:\n",
        "    print(error)\n",
        "else:\n",
        "    DEMOGRAPHIC_ENTITY_RESOURCE_NAME = demographic_entity_type.resource_name\n",
        "    print(\"Entity type name is\", DEMOGRAPHIC_ENTITY_RESOURCE_NAME)"
      ]
    },
    {
      "cell_type": "code",
      "execution_count": null,
      "metadata": {
        "id": "388944abfdc0"
      },
      "outputs": [],
      "source": [
        "try:\n",
        "    behavior_entity_type = mobile_gaming_feature_store.create_entity_type(\n",
        "        entity_type_id=BEHAVIOR_ENTITY_ID, description=\"User behavior Entity\", sync=True\n",
        "    )\n",
        "except RuntimeError as error:\n",
        "    print(error)\n",
        "else:\n",
        "    BEHAVIOR_ENTITY_RESOURCE_NAME = behavior_entity_type.resource_name\n",
        "    print(\"Entity type name is\", BEHAVIOR_ENTITY_RESOURCE_NAME)"
      ]
    },
    {
      "cell_type": "markdown",
      "metadata": {
        "id": "b287d5f9cb1a"
      },
      "source": [
        "### Create Features"
      ]
    },
    {
      "cell_type": "markdown",
      "metadata": {
        "id": "6ef0010aa4b9"
      },
      "source": [
        "#### Feature Config"
      ]
    },
    {
      "cell_type": "code",
      "execution_count": null,
      "metadata": {
        "id": "449f6277a690"
      },
      "outputs": [],
      "source": [
        "demographic_feature_configs = {\n",
        "    \"country\": {\n",
        "        \"value_type\": \"STRING\",\n",
        "        \"description\": \"The country of customer\",\n",
        "        \"labels\": {\"status\": \"passed\"},\n",
        "    },\n",
        "    \"operating_system\": {\n",
        "        \"value_type\": \"STRING\",\n",
        "        \"description\": \"The operating system of device\",\n",
        "        \"labels\": {\"status\": \"passed\"},\n",
        "    },\n",
        "    \"language\": {\n",
        "        \"value_type\": \"STRING\",\n",
        "        \"description\": \"The language of device\",\n",
        "        \"labels\": {\"status\": \"passed\"},\n",
        "    },\n",
        "    \"user_pseudo_id\": {\n",
        "        \"value_type\": \"STRING\",\n",
        "        \"description\": \"User pseudo id\",\n",
        "        \"labels\": {\"status\": \"passed\"},\n",
        "    },\n",
        "}\n",
        "\n",
        "behavior_feature_configs = {\n",
        "    \"cnt_user_engagement\": {\n",
        "        \"value_type\": \"DOUBLE\",\n",
        "        \"description\": \"A variable of user engagement level\",\n",
        "        \"labels\": {\"status\": \"passed\"},\n",
        "    },\n",
        "    \"cnt_level_start_quickplay\": {\n",
        "        \"value_type\": \"DOUBLE\",\n",
        "        \"description\": \"A variable of user engagement with start level\",\n",
        "        \"labels\": {\"status\": \"passed\"},\n",
        "    },\n",
        "    \"cnt_level_end_quickplay\": {\n",
        "        \"value_type\": \"DOUBLE\",\n",
        "        \"description\": \"A variable of user engagement with end level\",\n",
        "        \"labels\": {\"status\": \"passed\"},\n",
        "    },\n",
        "    \"cnt_level_complete_quickplay\": {\n",
        "        \"value_type\": \"DOUBLE\",\n",
        "        \"description\": \"A variable of user engagement with complete status\",\n",
        "        \"labels\": {\"status\": \"passed\"},\n",
        "    },\n",
        "    \"cnt_level_reset_quickplay\": {\n",
        "        \"value_type\": \"DOUBLE\",\n",
        "        \"description\": \"A variable of user engagement with reset status\",\n",
        "        \"labels\": {\"status\": \"passed\"},\n",
        "    },\n",
        "    \"cnt_post_score\": {\n",
        "        \"value_type\": \"DOUBLE\",\n",
        "        \"description\": \"A variable of user score\",\n",
        "        \"labels\": {\"status\": \"passed\"},\n",
        "    },\n",
        "    \"cnt_spend_virtual_currency\": {\n",
        "        \"value_type\": \"DOUBLE\",\n",
        "        \"description\": \"A variable of user virtual amount\",\n",
        "        \"labels\": {\"status\": \"passed\"},\n",
        "    },\n",
        "    \"cnt_ad_reward\": {\n",
        "        \"value_type\": \"DOUBLE\",\n",
        "        \"description\": \"A variable of user reward\",\n",
        "        \"labels\": {\"status\": \"passed\"},\n",
        "    },\n",
        "    \"cnt_challenge_a_friend\": {\n",
        "        \"value_type\": \"DOUBLE\",\n",
        "        \"description\": \"A variable of user challenges with friends\",\n",
        "        \"labels\": {\"status\": \"passed\"},\n",
        "    },\n",
        "    \"cnt_completed_5_levels\": {\n",
        "        \"value_type\": \"DOUBLE\",\n",
        "        \"description\": \"A variable of user level 5 completed\",\n",
        "        \"labels\": {\"status\": \"passed\"},\n",
        "    },\n",
        "    \"cnt_use_extra_steps\": {\n",
        "        \"value_type\": \"DOUBLE\",\n",
        "        \"description\": \"A variable of user extra steps\",\n",
        "        \"labels\": {\"status\": \"passed\"},\n",
        "    },\n",
        "    \"month\": {\n",
        "        \"value_type\": \"INT64\",\n",
        "        \"description\": \"First touch month\",\n",
        "        \"labels\": {\"status\": \"passed\"},\n",
        "    },\n",
        "    \"julianday\": {\n",
        "        \"value_type\": \"INT64\",\n",
        "        \"description\": \"First touch julian day\",\n",
        "        \"labels\": {\"status\": \"passed\"},\n",
        "    },\n",
        "    \"dayofweek\": {\n",
        "        \"value_type\": \"INT64\",\n",
        "        \"description\": \"First touch day of week\",\n",
        "        \"labels\": {\"status\": \"passed\"},\n",
        "    },\n",
        "}"
      ]
    },
    {
      "cell_type": "markdown",
      "metadata": {
        "id": "fbbd24be786c"
      },
      "source": [
        "#### Create features using `batch_create_features` method"
      ]
    },
    {
      "cell_type": "code",
      "execution_count": null,
      "metadata": {
        "id": "915d59b6d1dd"
      },
      "outputs": [],
      "source": [
        "try:\n",
        "    demographic_entity_type.batch_create_features(\n",
        "        feature_configs=demographic_feature_configs, sync=True\n",
        "    )\n",
        "except RuntimeError as error:\n",
        "    print(error)\n",
        "else:\n",
        "    for feature in demographic_entity_type.list_features():\n",
        "        print(\"\")\n",
        "        print(f\"The resource name of {feature.name} feature is\", feature.resource_name)"
      ]
    },
    {
      "cell_type": "code",
      "execution_count": null,
      "metadata": {
        "id": "f7a8503351a9"
      },
      "outputs": [],
      "source": [
        "try:\n",
        "    behavior_entity_type.batch_create_features(\n",
        "        feature_configs=behavior_feature_configs, sync=True\n",
        "    )\n",
        "except RuntimeError as error:\n",
        "    print(error)\n",
        "else:\n",
        "    for feature in behavior_entity_type.list_features():\n",
        "        print(\"\")\n",
        "        print(f\"The resource name of {feature.name} feature is\", feature.resource_name)"
      ]
    },
    {
      "cell_type": "markdown",
      "metadata": {
        "id": "b9fe1e2f2b46"
      },
      "source": [
        "### Ingest features "
      ]
    },
    {
      "cell_type": "code",
      "execution_count": null,
      "metadata": {
        "id": "cbe250073571"
      },
      "outputs": [],
      "source": [
        "DEMOGRAPHIC_FEATURES_IDS = [\n",
        "    feature.name for feature in demographic_entity_type.list_features()\n",
        "]"
      ]
    },
    {
      "cell_type": "code",
      "execution_count": null,
      "metadata": {
        "id": "6129c6fc070a"
      },
      "outputs": [],
      "source": [
        "try:\n",
        "    demographic_entity_type.ingest_from_bq(\n",
        "        feature_ids=DEMOGRAPHIC_FEATURES_IDS,\n",
        "        feature_time=FEATURE_TIME,\n",
        "        bq_source_uri=BQ_SOURCE_URI,\n",
        "        entity_id_field=ENTITY_ID_FIELD,\n",
        "        disable_online_serving=False,\n",
        "        worker_count=10,\n",
        "        sync=False,\n",
        "    )\n",
        "except RuntimeError as error:\n",
        "    print(error)"
      ]
    },
    {
      "cell_type": "code",
      "execution_count": null,
      "metadata": {
        "id": "90b089700fdb"
      },
      "outputs": [],
      "source": [
        "BEHAVIOR_FEATURES_IDS = [\n",
        "    feature.name for feature in behavior_entity_type.list_features()\n",
        "]"
      ]
    },
    {
      "cell_type": "code",
      "execution_count": null,
      "metadata": {
        "id": "1fc026ea2ba0"
      },
      "outputs": [],
      "source": [
        "try:\n",
        "    behavior_entity_type.ingest_from_bq(\n",
        "        feature_ids=BEHAVIOR_FEATURES_IDS,\n",
        "        feature_time=FEATURE_TIME,\n",
        "        bq_source_uri=BQ_SOURCE_URI,\n",
        "        entity_id_field=ENTITY_ID_FIELD,\n",
        "        disable_online_serving=False,\n",
        "        worker_count=10,\n",
        "        sync=False,\n",
        "    )\n",
        "except RuntimeError as error:\n",
        "    print(error)"
      ]
    },
    {
      "cell_type": "markdown",
      "metadata": {
        "id": "f36443df40a0"
      },
      "source": [
        "# Create Feature Fetch Config"
      ]
    },
    {
      "cell_type": "code",
      "execution_count": null,
      "metadata": {
        "id": "4cb18cf35fcf"
      },
      "outputs": [],
      "source": [
        "entity_config = {\n",
        "    \"demographic\": demographic_feature_configs,\n",
        "    \"behavior\": behavior_feature_configs,\n",
        "}"
      ]
    },
    {
      "cell_type": "code",
      "execution_count": null,
      "metadata": {
        "id": "628aad8070b9"
      },
      "outputs": [],
      "source": [
        "feature_config_string = \"\"\"modelInputFormat: DICT\n",
        "features:\"\"\"\n",
        "\n",
        "for entity_id, config in entity_config.items():\n",
        "    for feature_name in config.keys():\n",
        "        feature_config_string += \"\"\"\n",
        "- valueKey: {FEATURE_NAME}\n",
        "  featureSource:\n",
        "    entityIdKey: {ENTITY_ID}\n",
        "    entityType: projects/{PROJECT_NUMBER}/locations/{REGION}/featurestores/{FEATURESTORE_ID}/entityTypes/{ENTITY_ID}\n",
        "    featureId: {FEATURE_NAME}\"\"\".format(\n",
        "            FEATURE_NAME=feature_name,\n",
        "            ENTITY_ID=entity_id,\n",
        "            PROJECT_NUMBER=PROJECT_NUMBER,\n",
        "            REGION=REGION,\n",
        "            FEATURESTORE_ID=FEATURESTORE_ID,\n",
        "        )"
      ]
    },
    {
      "cell_type": "code",
      "execution_count": null,
      "metadata": {
        "id": "d8b0d7a52703"
      },
      "outputs": [],
      "source": [
        "print(feature_config_string)"
      ]
    },
    {
      "cell_type": "code",
      "execution_count": null,
      "metadata": {
        "id": "af54fdaab883"
      },
      "outputs": [],
      "source": [
        "with open(\"prediction_featuresstore_fetch_config.yaml\", \"w\") as f:\n",
        "    f.write(feature_config_string)"
      ]
    },
    {
      "cell_type": "code",
      "execution_count": null,
      "metadata": {
        "id": "1bfb1c7a353b"
      },
      "outputs": [],
      "source": [
        "ARTIFACT_URI"
      ]
    },
    {
      "cell_type": "code",
      "execution_count": null,
      "metadata": {
        "id": "6542003c41e4"
      },
      "outputs": [],
      "source": [
        "# Remove if the file already exists\n",
        "!gsutil rm $ARTIFACT_URI/prediction_featuresstore_fetch_config.yaml"
      ]
    },
    {
      "cell_type": "code",
      "execution_count": null,
      "metadata": {
        "id": "59281812ec6d"
      },
      "outputs": [],
      "source": [
        "!gsutil cp prediction_featuresstore_fetch_config.yaml $ARTIFACT_URI"
      ]
    },
    {
      "cell_type": "markdown",
      "metadata": {
        "id": "7ba1f1ffc2f4"
      },
      "source": [
        "# Integrate with Vertex Prediction"
      ]
    },
    {
      "cell_type": "markdown",
      "metadata": {
        "id": "3dec60e44215"
      },
      "source": [
        "**NOTE:** The feature is only available in `autopush` now"
      ]
    },
    {
      "cell_type": "code",
      "execution_count": null,
      "metadata": {
        "id": "d985f3b6e4ff"
      },
      "outputs": [],
      "source": [
        "import google.cloud.aiplatform as aip\n",
        "\n",
        "aip.constants.base.API_BASE_PATH = \"autopush-aiplatform.sandbox.googleapis.com\"\n",
        "aip.constants.base.PREDICTION_API_BASE_PATH = (\n",
        "    \"autopush-prediction-aiplatform.sandbox.googleapis.com\"\n",
        ")\n",
        "\n",
        "from datetime import datetime\n",
        "\n",
        "TIMESTAMP = datetime.now().strftime(\"%Y%m%d%H%M%S\")"
      ]
    },
    {
      "cell_type": "markdown",
      "metadata": {
        "id": "aec1e0ce2e91"
      },
      "source": [
        "## Upload Model"
      ]
    },
    {
      "cell_type": "code",
      "execution_count": null,
      "metadata": {
        "id": "22533d4e15ac"
      },
      "outputs": [],
      "source": [
        "DEPLOY_IMAGE = \"us-docker.pkg.dev/vertex-ai/prediction/tf2-cpu.2-7:latest\""
      ]
    },
    {
      "cell_type": "code",
      "execution_count": null,
      "metadata": {
        "id": "aaf40632f76b"
      },
      "outputs": [],
      "source": [
        "model = aip.Model.upload(\n",
        "    display_name=\"mobile_gaming_featureStore_integration_\" + TIMESTAMP,\n",
        "    artifact_uri=ARTIFACT_URI,\n",
        "    serving_container_image_uri=DEPLOY_IMAGE,\n",
        "    sync=False,\n",
        ")\n",
        "\n",
        "model.wait()"
      ]
    },
    {
      "cell_type": "markdown",
      "metadata": {
        "id": "621a3327b313"
      },
      "source": [
        "## Deploy Model"
      ]
    },
    {
      "cell_type": "code",
      "execution_count": null,
      "metadata": {
        "id": "544df8034437"
      },
      "outputs": [],
      "source": [
        "DEPLOYED_NAME = \"mobile_gaming_featureStore_integration_\" + TIMESTAMP\n",
        "\n",
        "TRAFFIC_SPLIT = {\"0\": 100}\n",
        "\n",
        "MACHINE_TYPE = \"n1-standard-4\"\n",
        "\n",
        "MIN_NODES = 1\n",
        "MAX_NODES = 1\n",
        "\n",
        "endpoint = model.deploy(\n",
        "    deployed_model_display_name=DEPLOYED_NAME,\n",
        "    traffic_split=TRAFFIC_SPLIT,\n",
        "    machine_type=MACHINE_TYPE,\n",
        "    min_replica_count=MIN_NODES,\n",
        "    max_replica_count=MAX_NODES,\n",
        "    service_account=SERVICE_ACCOUNT,\n",
        ")"
      ]
    },
    {
      "cell_type": "markdown",
      "metadata": {
        "id": "9ae4ed6ad575"
      },
      "source": [
        "## Predict"
      ]
    },
    {
      "cell_type": "markdown",
      "metadata": {
        "id": "47f936b90ae9"
      },
      "source": [
        "### Get Test Prediction Request"
      ]
    },
    {
      "cell_type": "code",
      "execution_count": null,
      "metadata": {
        "id": "fdfc39823734"
      },
      "outputs": [],
      "source": [
        "MODEL_INPUT_QUERY = f\"\"\"\n",
        "WITH user_latest_action AS (\n",
        "  SELECT \n",
        "    user_pseudo_id,\n",
        "    MAX(timestamp) AS timestamp\n",
        "  FROM\n",
        "    `{PROJECT_ID}.{BQ_DATASET}.{FEATURES_TABLE}` AS t\n",
        "  GROUP BY user_pseudo_id\n",
        ")\n",
        "SELECT \n",
        "  country,\n",
        "  cnt_spend_virtual_currency,\n",
        "  language,\n",
        "  cnt_completed_5_levels,\n",
        "  user_latest_action.user_pseudo_id,\n",
        "  cnt_level_reset_quickplay,\n",
        "  dayofweek,\n",
        "  cnt_ad_reward,\n",
        "  cnt_challenge_a_friend,\n",
        "  cnt_level_end_quickplay,\n",
        "  cnt_level_complete_quickplay,\n",
        "  julianday,\n",
        "  cnt_post_score,\n",
        "  cnt_level_start_quickplay,\n",
        "  month,\n",
        "  cnt_user_engagement,\n",
        "  operating_system,\n",
        "  cnt_use_extra_steps,\n",
        "FROM\n",
        "  user_latest_action \n",
        "LEFT JOIN\n",
        "  `{PROJECT_ID}.{BQ_DATASET}.{FEATURES_TABLE}` AS t\n",
        "ON\n",
        "  user_latest_action.user_pseudo_id=t.user_pseudo_id AND\n",
        "  user_latest_action.timestamp=t.timestamp\n",
        "LIMIT 5\n",
        "\"\"\""
      ]
    },
    {
      "cell_type": "code",
      "execution_count": null,
      "metadata": {
        "id": "62f18accb6eb"
      },
      "outputs": [],
      "source": [
        "try:\n",
        "    job = bq_client.query(MODEL_INPUT_QUERY)\n",
        "    model_input_query_result = job.result()\n",
        "except RuntimeError as error:\n",
        "    print(error)"
      ]
    },
    {
      "cell_type": "code",
      "execution_count": null,
      "metadata": {
        "id": "91ce489e7ad5"
      },
      "outputs": [],
      "source": [
        "DEFAULT_PRED_REQUEST = [dict(row) for row in model_input_query_result]\n",
        "DEFAULT_PRED_REQUEST"
      ]
    },
    {
      "cell_type": "code",
      "execution_count": null,
      "metadata": {
        "id": "62de8a046d9a"
      },
      "outputs": [],
      "source": [
        "FS_PRED_REQUEST = [\n",
        "    {\n",
        "        \"demographic\": default_input[\"user_pseudo_id\"],\n",
        "        \"behavior\": default_input[\"user_pseudo_id\"],\n",
        "    }\n",
        "    for default_input in DEFAULT_PRED_REQUEST\n",
        "]\n",
        "FS_PRED_REQUEST"
      ]
    },
    {
      "cell_type": "code",
      "execution_count": null,
      "metadata": {
        "id": "a2ec292a9c6a"
      },
      "outputs": [],
      "source": [
        "endpoint.predict([DEFAULT_PRED_REQUEST[0]])"
      ]
    },
    {
      "cell_type": "code",
      "execution_count": null,
      "metadata": {
        "id": "c8ed98304207"
      },
      "outputs": [],
      "source": [
        "DEFAULT_RESPONSE = endpoint.predict(DEFAULT_PRED_REQUEST)"
      ]
    },
    {
      "cell_type": "markdown",
      "metadata": {
        "id": "8218c313b19a"
      },
      "source": [
        "### Single instance"
      ]
    },
    {
      "cell_type": "code",
      "execution_count": null,
      "metadata": {
        "id": "579ef9594650"
      },
      "outputs": [],
      "source": [
        "endpoint.predict([FS_PRED_REQUEST[0]])"
      ]
    },
    {
      "cell_type": "markdown",
      "metadata": {
        "id": "f2e0f75abdc2"
      },
      "source": [
        "### Multiple instances"
      ]
    },
    {
      "cell_type": "code",
      "execution_count": null,
      "metadata": {
        "id": "d33a3d655c02"
      },
      "outputs": [],
      "source": [
        "FS_RESPONSE = endpoint.predict(FS_PRED_REQUEST)"
      ]
    },
    {
      "cell_type": "markdown",
      "metadata": {
        "id": "fe6b1cc21ffe"
      },
      "source": [
        "### Compare response"
      ]
    },
    {
      "cell_type": "code",
      "execution_count": null,
      "metadata": {
        "id": "4b1c5108320d"
      },
      "outputs": [],
      "source": [
        "DEFAULT_RESPONSE.predictions == FS_RESPONSE.predictions"
      ]
    },
    {
      "cell_type": "markdown",
      "metadata": {
        "id": "2b15bde0c058"
      },
      "source": [
        "# Clean Up"
      ]
    },
    {
      "cell_type": "code",
      "execution_count": null,
      "metadata": {
        "id": "d4f7b2d2674a"
      },
      "outputs": [],
      "source": [
        "# delete feature store\n",
        "mobile_gaming_feature_store.delete(sync=True, force=True)"
      ]
    },
    {
      "cell_type": "code",
      "execution_count": null,
      "metadata": {
        "id": "fed3f47dbbe7"
      },
      "outputs": [],
      "source": [
        "# delete Vertex AI resources\n",
        "endpoint.undeploy_all()\n",
        "endpoint.delete()\n",
        "model.delete"
      ]
    },
    {
      "cell_type": "code",
      "execution_count": null,
      "metadata": {
        "id": "7c1de7c47f99"
      },
      "outputs": [],
      "source": [
        "# Delete bucket\n",
        "!gsutil -m rm -r $BUCKET_URI"
      ]
    },
    {
      "cell_type": "code",
      "execution_count": null,
      "metadata": {
        "id": "280e2d542973"
      },
      "outputs": [],
      "source": [
        "# Delete the BigQuery Dataset\n",
        "!bq rm -r -f -d $PROJECT_ID:$BQ_DATASET"
      ]
    }
  ],
  "metadata": {
    "colab": {
      "name": "prediction_featurestore_integration.ipynb",
      "toc_visible": true
    },
    "kernelspec": {
      "display_name": "Python 3",
      "name": "python3"
    }
  },
  "nbformat": 4,
  "nbformat_minor": 0
}
