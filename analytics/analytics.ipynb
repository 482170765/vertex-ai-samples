{
  "cells": [
    {
      "cell_type": "code",
      "execution_count": 2,
      "metadata": {
        "id": "247c443d1da7"
      },
      "outputs": [],
      "source": [
        "import urllib.parse"
      ]
    },
    {
      "cell_type": "code",
      "execution_count": 6,
      "metadata": {
        "id": "e84583943d06"
      },
      "outputs": [],
      "source": [
        "# measurement id - points information to the property we created above\n",
        "measurement_id = \"G-L6X3ECH596\"\n",
        "# session id, is required, but is set to a dummy value of 1 (no cookies)\n",
        "session_id = 1\n",
        "# the users client id, required when not sending uid (user id), in this case is set to dummy value of 1 for all users/clients\n",
        "cid = 1\n",
        "dt_file_name = \"test_tracking.ipynb\"\n",
        "dl_file_path = \"/notebooks/official/test_tracking.ipynb\""
      ]
    },
    {
      "cell_type": "code",
      "execution_count": 7,
      "metadata": {
        "id": "e64cea5529fb"
      },
      "outputs": [
        {
          "name": "stdout",
          "output_type": "stream",
          "text": [
            "https://www.google-analytics.com/collect?v=2&tid=G-L6X3ECH596&cid=1&en=page_view&sid=1&dt=test_tracking.ipynb&dl=%2Fnotebooks%2Fofficial%2Ftest_tracking.ipynb\n"
          ]
        }
      ],
      "source": [
        "url = \"https://www.google-analytics.com/collect?v=2\"\n",
        "track_parms = f\"&tid={measurement_id}&cid=1&en=page_view&sid=1\"\n",
        "pass_parms = f\"&dt={urllib.parse.quote_plus(dt_file_name)}&dl={urllib.parse.quote_plus(dl_file_path)}\"\n",
        "click = url + track_parms + pass_parms\n",
        "\n",
        "print(click)"
      ]
    },
    {
      "attachments": {},
      "cell_type": "markdown",
      "metadata": {
        "id": "b1b9ed826d7f"
      },
      "source": [
        "![ga4](https://www.google-analytics.com/collect?v=2&tid=G-L6X3ECH596&cid=1&en=page_view&sid=1&dt=test_tracking.ipynb&dl=%2Fnotebooks%2Fofficial%2Ftest_tracking_pixel.ipynb)\n"
      ]
    }
  ],
  "metadata": {
    "colab": {
      "name": "analytics.ipynb",
      "toc_visible": true
    },
    "kernelspec": {
      "display_name": "Python 3",
      "name": "python3"
    }
  },
  "nbformat": 4,
  "nbformat_minor": 0
}
